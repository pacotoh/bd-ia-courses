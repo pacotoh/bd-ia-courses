{
  "cells": [
    {
      "cell_type": "markdown",
      "metadata": {
        "id": "o3UPneuP--cf"
      },
      "source": [
        "# Sistemas Basados en Reglas usando Experta\n",
        "\n",
        "En primer lugar, debemos instalar la librería \"experta\" (fork de pyknow).\n",
        "\n",
        "La documentación oficial de la librería se puede encontrar en:\n",
        "https://experta.readthedocs.io/en/latest/index.html\n",
        "\n",
        "Esta librería está basada en el lenguaje de programación CLIPS, escrito en C."
      ]
    },
    {
      "cell_type": "code",
      "execution_count": null,
      "metadata": {
        "colab": {
          "base_uri": "https://localhost:8080/"
        },
        "id": "rbpZ59rieU7N",
        "outputId": "aec5769e-0062-4962-83e0-224807b99191"
      },
      "outputs": [
        {
          "name": "stdout",
          "output_type": "stream",
          "text": [
            "Collecting experta\n",
            "  Downloading experta-1.9.4-py3-none-any.whl (35 kB)\n",
            "Collecting frozendict==1.2 (from experta)\n",
            "  Downloading frozendict-1.2.tar.gz (2.6 kB)\n",
            "  Preparing metadata (setup.py) ... \u001b[?25l\u001b[?25hdone\n",
            "Collecting schema==0.6.7 (from experta)\n",
            "  Downloading schema-0.6.7-py2.py3-none-any.whl (14 kB)\n",
            "Building wheels for collected packages: frozendict\n",
            "  Building wheel for frozendict (setup.py) ... \u001b[?25l\u001b[?25hdone\n",
            "  Created wheel for frozendict: filename=frozendict-1.2-py3-none-any.whl size=3148 sha256=7e04d6e691ce0e6741f2041cf0703e4373f3f3e4ccc93e19daef9ae8fc3cd988\n",
            "  Stored in directory: /root/.cache/pip/wheels/ff/80/86/2d516a3c26397f67adaa2c848879d4a6359d90a60546ce4e03\n",
            "Successfully built frozendict\n",
            "Installing collected packages: schema, frozendict, experta\n",
            "  Attempting uninstall: frozendict\n",
            "    Found existing installation: frozendict 2.4.0\n",
            "    Uninstalling frozendict-2.4.0:\n",
            "      Successfully uninstalled frozendict-2.4.0\n",
            "\u001b[31mERROR: pip's dependency resolver does not currently take into account all the packages that are installed. This behaviour is the source of the following dependency conflicts.\n",
            "yfinance 0.2.37 requires frozendict>=2.3.4, but you have frozendict 1.2 which is incompatible.\u001b[0m\u001b[31m\n",
            "\u001b[0mSuccessfully installed experta-1.9.4 frozendict-1.2 schema-0.6.7\n"
          ]
        }
      ],
      "source": [
        "%pip install experta"
      ]
    },
    {
      "cell_type": "markdown",
      "metadata": {
        "id": "c75GR4NnAC_x"
      },
      "source": [
        "# Hechos (Facts)\n",
        "\n",
        "En esta sección aprenderemos a crear Hechos de nuestra BH (base de hechos).\n",
        "Para ello, crearemos objetos de la clase Fact."
      ]
    },
    {
      "cell_type": "code",
      "execution_count": null,
      "metadata": {
        "id": "9sr1PgLp-xL9"
      },
      "outputs": [],
      "source": [
        "from experta import *"
      ]
    },
    {
      "cell_type": "code",
      "execution_count": null,
      "metadata": {
        "colab": {
          "base_uri": "https://localhost:8080/"
        },
        "id": "d1NEtuFwDbXe",
        "outputId": "a55766b0-26ad-4a92-e6a9-2ea3aacb3ad5"
      },
      "outputs": [
        {
          "name": "stdout",
          "output_type": "stream",
          "text": [
            "1 2\n"
          ]
        },
        {
          "data": {
            "text/plain": [
              "Fact(a=1, b=2)"
            ]
          },
          "execution_count": 7,
          "metadata": {},
          "output_type": "execute_result"
        }
      ],
      "source": [
        "f = Fact(a=1, b=2)\n",
        "print(f['a'], f['b'])\n",
        "f"
      ]
    },
    {
      "cell_type": "code",
      "execution_count": null,
      "metadata": {
        "id": "OB0oJlLdCtIq"
      },
      "outputs": [],
      "source": [
        "class Alert(Fact):\n",
        "  \"\"\"The alert level.\"\"\"\n",
        "  pass\n",
        "\n",
        "class Status(Fact):\n",
        "  \"\"\"The system status.\"\"\"\n",
        "  pass\n",
        "\n",
        "f1 = Alert('red')\n",
        "f2 = Status('critical')"
      ]
    },
    {
      "cell_type": "code",
      "execution_count": null,
      "metadata": {
        "colab": {
          "base_uri": "https://localhost:8080/"
        },
        "id": "Mgc9G8a9DPAG",
        "outputId": "6669965e-8918-4794-9aaa-652b4adcd4a7"
      },
      "outputs": [
        {
          "data": {
            "text/plain": [
              "Alert('red')"
            ]
          },
          "execution_count": 9,
          "metadata": {},
          "output_type": "execute_result"
        }
      ],
      "source": [
        "f1"
      ]
    },
    {
      "cell_type": "markdown",
      "metadata": {
        "id": "PWRmQO84EOOm"
      },
      "source": [
        "## Reglas (rules)\n",
        "\n",
        "Las reglas tienen dos partes:\n",
        "- Parte izquierda (LHS) condiciones para ejecutar la regla.\n",
        "- Parte derecha (RHS) acciones que se ejecutan cuando se cumple la parte LHS."
      ]
    },
    {
      "cell_type": "code",
      "execution_count": null,
      "metadata": {
        "id": "VTMx6nl6DP-0"
      },
      "outputs": [],
      "source": [
        "# En nuestro motor de inferencia introducimos una regla match_aprobado\n",
        "class Notas(KnowledgeEngine):\n",
        "  @Rule(Fact(nota='aprobado'))\n",
        "  def match_aprobado(self):\n",
        "    print(\"Aprobado!\")"
      ]
    },
    {
      "cell_type": "markdown",
      "metadata": {
        "id": "BSFHsoHXOiVk"
      },
      "source": [
        "## Funcionamiento del motor de inferencia\n",
        "\n",
        "1. Se instancia el motor (KnowledgeEngine)\n",
        "2. Se llama al método reset\n",
        "\n",
        "\n",
        "> *   Se declara el hecho InitialFact\n",
        "> *   Se declaran todos los métodos del método decorado por @DefFacts\n",
        "\n",
        "\n",
        "3. Se llama al método run para comenzar la ejecución"
      ]
    },
    {
      "cell_type": "code",
      "execution_count": null,
      "metadata": {
        "colab": {
          "base_uri": "https://localhost:8080/"
        },
        "id": "Rbpmc6YPFgg_",
        "outputId": "58f2335a-6dc4-4812-abc8-bccd9ad31ca8"
      },
      "outputs": [
        {
          "name": "stdout",
          "output_type": "stream",
          "text": [
            "Antes:  <f-0>: InitialFact()\n",
            "Después:  <f-0>: InitialFact()\n",
            "<f-1>: Fact(nota='aprobado')\n",
            "Aprobado!\n"
          ]
        }
      ],
      "source": [
        "engine = Notas()\n",
        "engine.reset()\n",
        "print(\"Antes: \", engine.facts)\n",
        "engine.declare(Fact(nota='aprobado'))\n",
        "print(\"Después: \", engine.facts)\n",
        "engine.run()"
      ]
    },
    {
      "cell_type": "code",
      "execution_count": null,
      "metadata": {
        "colab": {
          "base_uri": "https://localhost:8080/"
        },
        "id": "-QHUVtePGLMI",
        "outputId": "7bc21b6f-7f57-4491-f4b9-6888469dd963"
      },
      "outputs": [
        {
          "data": {
            "text/plain": [
              "FactList([(0, InitialFact()), (1, Fact(nota='aprobado'))])"
            ]
          },
          "execution_count": 13,
          "metadata": {},
          "output_type": "execute_result"
        }
      ],
      "source": [
        "# Para obtener la base de hechos\n",
        "engine.facts"
      ]
    },
    {
      "cell_type": "markdown",
      "metadata": {
        "id": "nxRnuZp782sr"
      },
      "source": [
        "## DefFacts\n",
        "\n",
        "Son hechos que deben estar presentes al iniciar el sistema basados en reglas para que este 'arranque'."
      ]
    },
    {
      "cell_type": "code",
      "execution_count": null,
      "metadata": {
        "id": "2_YnDQgf-LR2"
      },
      "outputs": [],
      "source": [
        "class Test(KnowledgeEngine):\n",
        "  @DefFacts()\n",
        "  def start_data(self):\n",
        "    yield Fact(color='blue')\n",
        "    yield Fact(size='large')\n",
        "\n",
        "  @Rule(Fact(size='small'))\n",
        "  def now_is_small(self):\n",
        "    print('Now is small!')"
      ]
    },
    {
      "cell_type": "code",
      "execution_count": null,
      "metadata": {
        "colab": {
          "base_uri": "https://localhost:8080/"
        },
        "id": "YTEUldPw_CH5",
        "outputId": "56d4834f-be42-40de-8cd8-ecc42f8bcc53"
      },
      "outputs": [
        {
          "name": "stdout",
          "output_type": "stream",
          "text": [
            "Now is small!\n"
          ]
        }
      ],
      "source": [
        "test = Test()\n",
        "test.reset()\n",
        "test.declare(Fact(size='small'))\n",
        "test.run()"
      ]
    },
    {
      "cell_type": "code",
      "execution_count": null,
      "metadata": {
        "colab": {
          "base_uri": "https://localhost:8080/"
        },
        "id": "kQoanHP8_Q0N",
        "outputId": "6303e590-04c1-4737-f13c-cc46dadc2565"
      },
      "outputs": [
        {
          "data": {
            "text/plain": [
              "FactList([(0, InitialFact()),\n",
              "          (1, Fact(color='blue')),\n",
              "          (2, Fact(size='large')),\n",
              "          (3, Fact(size='small'))])"
            ]
          },
          "execution_count": 86,
          "metadata": {},
          "output_type": "execute_result"
        }
      ],
      "source": [
        "test.facts"
      ]
    },
    {
      "cell_type": "markdown",
      "metadata": {
        "id": "9XZWgK64PgCP"
      },
      "source": [
        "## DefFacts vs declare\n",
        "\n",
        "Ambos son usados para introducir hechos en la Base de Hechos, pero la diferencia es la siguiente:\n",
        "\n",
        "- declare añade el hecho a la memoria directamente\n",
        "- DefFacts se usa para declarar generadores, que serán creados por la llamada al método reset. A partir de esta llamada, todos los hechos generados en DefFacts serán añadidos a memoria usando declare"
      ]
    },
    {
      "cell_type": "markdown",
      "metadata": {
        "id": "LnmY0rOlCFdG"
      },
      "source": [
        "## Ejemplo de uso de reglas con Rule y DefFacts\n"
      ]
    },
    {
      "cell_type": "code",
      "execution_count": null,
      "metadata": {
        "colab": {
          "base_uri": "https://localhost:8080/"
        },
        "id": "5_-E46aNCuhn",
        "outputId": "93dfbf10-20c9-4064-c3ac-41e48634844a"
      },
      "outputs": [
        {
          "name": "stdout",
          "output_type": "stream",
          "text": [
            "¿Cuál es tu edad? 15\n",
            "¿Cuál es tu nombre? Paco\n",
            "Paco, tu edad es 15, no puedes hacer login\n"
          ]
        }
      ],
      "source": [
        "from experta import *\n",
        "\n",
        "EDAD_LIMITE = 18\n",
        "\n",
        "class Registro(KnowledgeEngine):\n",
        "  @DefFacts()\n",
        "  def inicializacion(self):\n",
        "    yield Fact(accion=\"inicio\")\n",
        "\n",
        "  @Rule(Fact(accion='inicio'),\n",
        "  NOT(Fact(edad=W())))\n",
        "  def preguntar_edad(self):\n",
        "    self.declare(Fact(edad=int(input(\"¿Cuál es tu edad? \"))))\n",
        "\n",
        "  @Rule(Fact(accion='inicio'),\n",
        "  NOT(Fact(nombre=W())))\n",
        "  def preguntar_nombre(self):\n",
        "    self.declare(Fact(nombre=input(\"¿Cuál es tu nombre? \")))\n",
        "\n",
        "  @Rule(Fact(accion='inicio'),\n",
        "  Fact(nombre=MATCH.nombre),\n",
        "  Fact(edad=MATCH.edad & GE(EDAD_LIMITE)))\n",
        "  def bienvenida(self, nombre, edad):\n",
        "    print(\"¡Bienvenido %s! Tu edad es %s\" % (nombre, edad))\n",
        "\n",
        "  @Rule(Fact(accion='inicio'),\n",
        "  Fact(nombre=MATCH.nombre),\n",
        "  Fact(edad=MATCH.edad & LT(EDAD_LIMITE)))\n",
        "  def no_bienvenida(self, nombre, edad):\n",
        "    print(\"%s, tu edad es %s, no puedes hacer login\" % (nombre, edad))\n",
        "\n",
        "engine = Registro()\n",
        "engine.reset() # Prepare the engine for the execution.\n",
        "engine.run() # Run it!"
      ]
    },
    {
      "cell_type": "markdown",
      "metadata": {
        "id": "Wp8_F9OvRB4T"
      },
      "source": [
        "## Prioridad (salience)\n",
        "\n",
        "Es un valor por defecto en 0, que indica la prioridad de la regla en relación a las demás. Cuanto mayor sea el valor numérico de la regla, antes será lanzada.\n",
        "\n",
        "En el caso anterior en el que pedimos el nombre y la edad, vamos a darle mayor prioridad a una de las reglas, por ejemplo, **la regla del nombre**, para que siempre se nos solicite el nombre antes que la edad."
      ]
    },
    {
      "cell_type": "code",
      "execution_count": null,
      "metadata": {
        "colab": {
          "base_uri": "https://localhost:8080/"
        },
        "id": "Dh4zP-TW81nJ",
        "outputId": "8feebd27-4993-4b20-8c20-6e6bf52615db"
      },
      "outputs": [
        {
          "name": "stdout",
          "output_type": "stream",
          "text": [
            "¿Cuál es tu nombre? Pepe\n",
            "¿Cuál es tu edad? 20\n",
            "¡Bienvenido Pepe! Tu edad es 20\n"
          ]
        }
      ],
      "source": [
        "from experta import *\n",
        "\n",
        "EDAD_LIMITE = 18\n",
        "\n",
        "class Registro(KnowledgeEngine):\n",
        "  @DefFacts()\n",
        "  def inicializacion(self):\n",
        "    yield Fact(accion=\"inicio\")\n",
        "\n",
        "  @Rule(Fact(accion='inicio'),\n",
        "  NOT(Fact(edad=W())), salience=0)\n",
        "  def preguntar_edad(self):\n",
        "    self.declare(Fact(edad=int(input(\"¿Cuál es tu edad? \"))))\n",
        "\n",
        "  @Rule(Fact(accion='inicio'),\n",
        "  NOT(Fact(nombre=W())), salience=1)\n",
        "  def preguntar_nombre(self):\n",
        "    self.declare(Fact(nombre=input(\"¿Cuál es tu nombre? \")))\n",
        "\n",
        "  @Rule(Fact(accion='inicio'),\n",
        "  Fact(nombre=MATCH.nombre),\n",
        "  Fact(edad=MATCH.edad & GE(EDAD_LIMITE)))\n",
        "  def bienvenida(self, nombre, edad):\n",
        "    print(\"¡Bienvenido %s! Tu edad es %s\" % (nombre, edad))\n",
        "\n",
        "  @Rule(Fact(accion='inicio'),\n",
        "  Fact(nombre=MATCH.nombre),\n",
        "  Fact(edad=MATCH.edad & LT(EDAD_LIMITE)))\n",
        "  def no_bienvenida(self, nombre, edad):\n",
        "    print(\"%s, tu edad es %s, no puedes hacer login\" % (nombre, edad))\n",
        "\n",
        "engine = Registro()\n",
        "engine.reset() # Prepare the engine for the execution.\n",
        "engine.run() # Run it!"
      ]
    },
    {
      "cell_type": "markdown",
      "metadata": {
        "id": "9l_c7rHn4bIT"
      },
      "source": [
        "## Modificando Facts\n",
        "\n",
        "Podemos realizar modificaciones en los hechos de la Base de Hechos aplicando los siguientes métodos:\n",
        "\n",
        "- declare: para añadir nuevos Hechos a la Base de Hechos.\n",
        "- retract: para eliminar Hechos de la Base de Hechos.\n",
        "- modify: para modificar Hechos ya existentes en la Base de Hechos.\n",
        "- duplicate: para añadir nuevos Hechos usando como plantilla Hechos que ya existan en la Base de Hechos."
      ]
    },
    {
      "cell_type": "code",
      "execution_count": null,
      "metadata": {
        "colab": {
          "base_uri": "https://localhost:8080/"
        },
        "id": "efmJy4CgRpDt",
        "outputId": "0f672da1-fa47-48bd-f567-8bce6c517ed7"
      },
      "outputs": [
        {
          "data": {
            "text/plain": [
              "FactList([(0, InitialFact()), (1, Fact(nombre='Pepe'))])"
            ]
          },
          "execution_count": 16,
          "metadata": {},
          "output_type": "execute_result"
        }
      ],
      "source": [
        "# Ejemplo del declare\n",
        "\n",
        "m_inf = KnowledgeEngine()\n",
        "m_inf.reset()\n",
        "m_inf.declare(Fact(nombre='Pepe'))\n",
        "\n",
        "m_inf.facts"
      ]
    },
    {
      "cell_type": "code",
      "execution_count": null,
      "metadata": {
        "colab": {
          "base_uri": "https://localhost:8080/"
        },
        "id": "QW9YWKqH5aTu",
        "outputId": "e8c1b939-30bb-4ef4-d7c0-b33cb091fd00"
      },
      "outputs": [
        {
          "name": "stdout",
          "output_type": "stream",
          "text": [
            "Hechos antes del retract: \n",
            " <f-0>: InitialFact()\n",
            "<f-1>: Fact(nombre='Pepe')\n",
            "<f-2>: Fact(edad=20)\n",
            "Hechos después del retract: \n",
            " <f-0>: InitialFact()\n",
            "<f-2>: Fact(edad=20)\n",
            "Hechos después del retract: \n",
            " <f-0>: InitialFact()\n",
            "<f-2>: Fact(edad=20)\n",
            "<f-3>: Fact(localidad='Cartagena')\n"
          ]
        }
      ],
      "source": [
        "# Ejemplo del retract\n",
        "\n",
        "m_inf = KnowledgeEngine()\n",
        "m_inf.reset()\n",
        "m_inf.declare(Fact(nombre='Pepe'))\n",
        "m_inf.declare(Fact(edad=20))\n",
        "\n",
        "print('Hechos antes del retract: \\n', m_inf.facts)\n",
        "\n",
        "m_inf.retract(1)\n",
        "print('Hechos después del retract: \\n', m_inf.facts)\n",
        "\n",
        "m_inf.declare(Fact(localidad='Cartagena'))\n",
        "print('Hechos después del retract: \\n', m_inf.facts)"
      ]
    },
    {
      "cell_type": "code",
      "execution_count": null,
      "metadata": {
        "id": "wR4P7ehA5_Rg"
      },
      "outputs": [],
      "source": [
        "# Ejemplo del retract usando Facts en reglas\n",
        "\n",
        "class Test(KnowledgeEngine):\n",
        "  @DefFacts()\n",
        "  def start_data(self):\n",
        "    yield Fact(color='blue')\n",
        "    yield Fact(size='large')\n",
        "\n",
        "  @Rule(Fact(size='small'),\n",
        "        AS.f << Fact(size='large'))\n",
        "  def now_is_small(self, f):\n",
        "    self.retract(f)\n",
        "    print('Now is small!')"
      ]
    },
    {
      "cell_type": "code",
      "execution_count": null,
      "metadata": {
        "colab": {
          "base_uri": "https://localhost:8080/"
        },
        "id": "42rW1YDS7IxU",
        "outputId": "85aa9d9d-b7e7-47d0-94dd-d51844b2512b"
      },
      "outputs": [
        {
          "name": "stdout",
          "output_type": "stream",
          "text": [
            "<f-0>: InitialFact()\n",
            "<f-1>: Fact(color='blue')\n",
            "<f-2>: Fact(size='large')\n",
            "Now is small!\n",
            "<f-0>: InitialFact()\n",
            "<f-1>: Fact(color='blue')\n",
            "<f-3>: Fact(size='small')\n"
          ]
        }
      ],
      "source": [
        "test = Test()\n",
        "test.reset()\n",
        "print(test.facts)\n",
        "test.declare(Fact(size='small'))\n",
        "test.run()\n",
        "print(test.facts)"
      ]
    },
    {
      "cell_type": "code",
      "execution_count": null,
      "metadata": {
        "colab": {
          "base_uri": "https://localhost:8080/"
        },
        "id": "oN-62ukx7vXw",
        "outputId": "23ae407c-d4bf-45d1-f80d-f47d9f7c7230"
      },
      "outputs": [
        {
          "name": "stdout",
          "output_type": "stream",
          "text": [
            "Hechos antes del modify: \n",
            " <f-0>: InitialFact()\n",
            "<f-1>: Fact(color='blue')\n",
            "<f-2>: Fact(size='large')\n",
            "Hechos después del modify: \n",
            " <f-0>: InitialFact()\n",
            "<f-2>: Fact(size='large')\n",
            "<f-3>: Fact(color='red')\n"
          ]
        }
      ],
      "source": [
        "# Ejemplo del modify\n",
        "\n",
        "test = Test()\n",
        "test.reset()\n",
        "\n",
        "print('Hechos antes del modify: \\n', test.facts)\n",
        "\n",
        "test.modify(test.facts[1], color='red')\n",
        "\n",
        "print('Hechos después del modify: \\n', test.facts)"
      ]
    },
    {
      "cell_type": "code",
      "execution_count": null,
      "metadata": {
        "id": "ceWc_n9u9TSa"
      },
      "outputs": [],
      "source": [
        "# Ejemplo del modify usando Facts en reglas\n",
        "\n",
        "class Test(KnowledgeEngine):\n",
        "  @DefFacts()\n",
        "  def start_data(self):\n",
        "    yield Fact(color='blue')\n",
        "    yield Fact(size='large')\n",
        "\n",
        "  @Rule(Fact(size='small'),\n",
        "        AS.f << Fact(size='large'))\n",
        "  def change_size(self, f):\n",
        "    self.modify(f, size='small')\n",
        "    print('Now is small!')"
      ]
    },
    {
      "cell_type": "code",
      "execution_count": null,
      "metadata": {
        "colab": {
          "base_uri": "https://localhost:8080/"
        },
        "id": "PjCvklXS-bLv",
        "outputId": "8e46f71e-92ea-4258-8b94-549219d546c5"
      },
      "outputs": [
        {
          "name": "stdout",
          "output_type": "stream",
          "text": [
            "<f-0>: InitialFact()\n",
            "<f-1>: Fact(color='blue')\n",
            "<f-2>: Fact(size='large')\n",
            "Now is small!\n",
            "<f-0>: InitialFact()\n",
            "<f-1>: Fact(color='blue')\n",
            "<f-3>: Fact(size='small')\n"
          ]
        }
      ],
      "source": [
        "test = Test()\n",
        "test.reset()\n",
        "print(test.facts)\n",
        "test.declare(Fact(size='small'))\n",
        "test.run()\n",
        "print(test.facts)"
      ]
    },
    {
      "cell_type": "code",
      "execution_count": null,
      "metadata": {
        "colab": {
          "base_uri": "https://localhost:8080/"
        },
        "id": "INpxUZhS-0wO",
        "outputId": "b46535bb-d1b8-4a14-b2d2-7fa095ba7cf2"
      },
      "outputs": [
        {
          "name": "stdout",
          "output_type": "stream",
          "text": [
            "Hechos antes del duplicate: \n",
            " <f-0>: InitialFact()\n",
            "<f-1>: Fact(color='blue')\n",
            "<f-2>: Fact(size='large')\n",
            "Hechos después del duplicate: \n",
            " <f-0>: InitialFact()\n",
            "<f-1>: Fact(color='blue')\n",
            "<f-2>: Fact(size='large')\n",
            "<f-3>: Fact(color='blue', texture='clean')\n"
          ]
        }
      ],
      "source": [
        "# Ejemplo del duplicate\n",
        "\n",
        "test = Test()\n",
        "test.reset()\n",
        "\n",
        "print('Hechos antes del duplicate: \\n', test.facts)\n",
        "\n",
        "test.duplicate(test.facts[1], texture='clean')\n",
        "\n",
        "print('Hechos después del duplicate: \\n', test.facts)"
      ]
    }
  ],
  "metadata": {
    "colab": {
      "provenance": []
    },
    "kernelspec": {
      "display_name": "Python 3",
      "name": "python3"
    },
    "language_info": {
      "name": "python"
    }
  },
  "nbformat": 4,
  "nbformat_minor": 0
}
