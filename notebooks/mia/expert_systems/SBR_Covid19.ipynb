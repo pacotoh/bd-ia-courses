{
  "cells": [
    {
      "cell_type": "markdown",
      "metadata": {
        "id": "f7XnMW5I5y9j"
      },
      "source": [
        "# Ejercicio de Sistemas Basados en Reglas (Covid-19)\n",
        "\n",
        "En este ejercicio entregable se crearán:\n",
        "\n",
        "- Motor de inferencia\n",
        "- Reglas\n",
        "- Hechos\n",
        "\n",
        "Para la creación de estos elementos contaremos con la definición del problema dada en el artículo \"Expert System That Detects COVID-19 Using Forward Chaining Algorithm\".\n",
        "\n",
        "El enlace al pdf original es el siguiente:\n",
        "\n",
        "https://drive.google.com/file/d/12e0k55FjmUAbj2m4Q31QSuVZA_rttQo-/view?usp=sharing"
      ]
    },
    {
      "cell_type": "markdown",
      "metadata": {
        "id": "Gkr6Llp06yp3"
      },
      "source": [
        "# Hechos\n",
        "\n",
        "A. PDP\n",
        "\n",
        "B. Fever >= 38 Celsius\n",
        "\n",
        "C. Cough\n",
        "\n",
        "D. Flu\n",
        "\n",
        "E. Sore throat\n",
        "\n",
        "F. mild or heavy according to clinical and/or image of radiology\n",
        "\n",
        "G. Immunocompromised\n",
        "\n",
        "H. Having historical trip to China or region or country where the disease spread within 14 days before the first symptom.\n",
        "\n",
        "I. Medical officer who get sick with same symptom after nursing patient with acute respiratory infection with unknown caused, without bothered by historical trip or live.\n",
        "\n",
        "J. Patient with acute respiratory infection from mild to heavy.\n",
        "\n",
        "K. Contacted with patient confirmed or probable Covid-19 within 14 days before symptom.\n",
        "\n",
        "L. Having historical contact with infected animal (if it has been identified) within 14 days before symptom.\n",
        "\n",
        "M. Working or visiting public health service which has cases of confirmed or probable COVID-19 in China or region or country that has been infected within 14 days before symptom."
      ]
    },
    {
      "cell_type": "markdown",
      "metadata": {
        "id": "WprfXSBh6ViE"
      },
      "source": [
        "# Reglas\n",
        "Las reglas a definir serán las siguientes:\n",
        "\n",
        "**R1. IF B AND (C OR D OR E) AND F THEN A**\n",
        "\n",
        "**R2. IF B AND (C OR D OR E) AND G AND (H OR I) THEN A**\n",
        "\n",
        "**R3. IF J AND (K OR L OR M OR (H AND B)) THEN A**"
      ]
    },
    {
      "cell_type": "code",
      "execution_count": null,
      "metadata": {
        "colab": {
          "base_uri": "https://localhost:8080/"
        },
        "id": "OjuAa_e1H92q",
        "outputId": "5dbc4bbf-0272-46bc-bfaa-2f0b6e636926"
      },
      "outputs": [
        {
          "name": "stdout",
          "output_type": "stream",
          "text": [
            "Collecting experta\n",
            "  Downloading experta-1.9.4-py3-none-any.whl (35 kB)\n",
            "Collecting frozendict==1.2 (from experta)\n",
            "  Downloading frozendict-1.2.tar.gz (2.6 kB)\n",
            "  Preparing metadata (setup.py) ... \u001b[?25l\u001b[?25hdone\n",
            "Collecting schema==0.6.7 (from experta)\n",
            "  Downloading schema-0.6.7-py2.py3-none-any.whl (14 kB)\n",
            "Building wheels for collected packages: frozendict\n",
            "  Building wheel for frozendict (setup.py) ... \u001b[?25l\u001b[?25hdone\n",
            "  Created wheel for frozendict: filename=frozendict-1.2-py3-none-any.whl size=3148 sha256=c2cc628853e388c1defc94dd825bf9f4aaf495c471c053bf252f0d9d307d4011\n",
            "  Stored in directory: /root/.cache/pip/wheels/ff/80/86/2d516a3c26397f67adaa2c848879d4a6359d90a60546ce4e03\n",
            "Successfully built frozendict\n",
            "Installing collected packages: schema, frozendict, experta\n",
            "  Attempting uninstall: frozendict\n",
            "    Found existing installation: frozendict 2.4.0\n",
            "    Uninstalling frozendict-2.4.0:\n",
            "      Successfully uninstalled frozendict-2.4.0\n",
            "\u001b[31mERROR: pip's dependency resolver does not currently take into account all the packages that are installed. This behaviour is the source of the following dependency conflicts.\n",
            "yfinance 0.2.35 requires frozendict>=2.3.4, but you have frozendict 1.2 which is incompatible.\u001b[0m\u001b[31m\n",
            "\u001b[0mSuccessfully installed experta-1.9.4 frozendict-1.2 schema-0.6.7\n"
          ]
        }
      ],
      "source": [
        "%pip install experta"
      ]
    },
    {
      "cell_type": "code",
      "execution_count": null,
      "metadata": {
        "id": "0QqfYkP1IRZp"
      },
      "outputs": [],
      "source": [
        "from experta import Fact, KnowledgeEngine, Rule, AND, OR, NOT, DefFacts"
      ]
    },
    {
      "cell_type": "markdown",
      "metadata": {
        "id": "wv2F6pbYLlRT"
      },
      "source": [
        "HECHOS"
      ]
    },
    {
      "cell_type": "code",
      "execution_count": null,
      "metadata": {
        "colab": {
          "base_uri": "https://localhost:8080/"
        },
        "id": "AosKvfrCId0H",
        "outputId": "86f9b0f5-d5aa-464b-d659-a905dbd637ff"
      },
      "outputs": [
        {
          "name": "stdout",
          "output_type": "stream",
          "text": [
            "> key: [initial], value: [initial]\n",
            "> key: [A], value: [PDP]\n",
            "> key: [B], value: [Fever >= 38 Celsius]\n",
            "> key: [C], value: [Cough]\n",
            "> key: [D], value: [Flu]\n",
            "> key: [E], value: [Sore throat]\n",
            "> key: [F], value: [mild or heavy according to clinical and/or image of radiology]\n",
            "> key: [G], value: [Immunocompromised]\n",
            "> key: [H], value: [Having historical trip to China or region or country where the disease spread within 14 days before the first symptom]\n",
            "> key: [I], value: [Medical officer who get sick with same symptom after nursing patient with acute respiratory infection with unknown caused, without bothered by historical trip or live]\n",
            "> key: [J], value: [Patient with acute respiratory infection from mild to heavy]\n",
            "> key: [K], value: [Contacted with patient confirmed or probable Covid-19 within 14 days before symptom]\n",
            "> key: [L], value: [Having historical contact with infected animal (if it has been identified) within 14 days before symptom]\n",
            "> key: [M], value: [Working or visiting public health service which has cases of confirmed or probable COVID-19 in China or region or country that has been infected within 14 days before symptom]\n"
          ]
        }
      ],
      "source": [
        "f = Fact(initial='initial', A='PDP', B='Fever >= 38 Celsius', C='Cough', D='Flu', E='Sore throat', F='mild or heavy according to clinical and/or image of radiology', G='Immunocompromised',\\\n",
        "         H='Having historical trip to China or region or country where the disease spread within 14 days before the first symptom',\\\n",
        "         I='Medical officer who get sick with same symptom after nursing patient with acute respiratory infection with unknown caused, without bothered by historical trip or live',\\\n",
        "         J='Patient with acute respiratory infection from mild to heavy', K='Contacted with patient confirmed or probable Covid-19 within 14 days before symptom',\\\n",
        "         L='Having historical contact with infected animal (if it has been identified) within 14 days before symptom',\\\n",
        "         M='Working or visiting public health service which has cases of confirmed or probable COVID-19 in China or region or country that has been infected within 14 days before symptom')\n",
        "for i in f.keys():\n",
        "  print(\"> key: [{}], value: [{}]\".format(i, f[i]))"
      ]
    },
    {
      "cell_type": "markdown",
      "metadata": {
        "id": "0E-0ajg7LoZX"
      },
      "source": [
        "REGLAS"
      ]
    },
    {
      "cell_type": "code",
      "execution_count": null,
      "metadata": {
        "id": "rJqe984WSH9Z"
      },
      "outputs": [],
      "source": [
        "class Covid(KnowledgeEngine):\n",
        "\n",
        "  @DefFacts()\n",
        "  def _initial_action(self):\n",
        "    yield Fact(initial=f['initial'])\n",
        "\n",
        "  @Rule( Fact(initial=f['initial']), NOT( Fact(A=f['A']) ), NOT( Fact(B=f['B']) ), salience=10)\n",
        "  def pr1(self):\n",
        "    if input(\"Do you have {}?\".format(f['B'])).lower() == 'yes':\n",
        "      self.declare(Fact(B=f['B']))\n",
        "\n",
        "  @Rule( Fact(initial=f['initial']), NOT( Fact(A=f['A']) ), NOT( Fact(C=f['C']) ), salience=9)\n",
        "  def pr2(self):\n",
        "    if input(\"Do you have {}?\".format(f['C'])).lower() == 'yes':\n",
        "      self.declare(Fact(C=f['C']))\n",
        "\n",
        "  @Rule( Fact(initial=f['initial']), NOT( Fact(A=f['A']) ), NOT( Fact(D=f['D']) ), salience=4)\n",
        "  def pr3(self):\n",
        "    if input(\"Do you have {}?\".format(f['D'])).lower() == 'yes':\n",
        "      self.declare(Fact(D=f['D']))\n",
        "\n",
        "  @Rule( Fact(initial=f['initial']), NOT( Fact(A=f['A']) ), NOT( Fact(E=f['E']) ), salience=3)\n",
        "  def pr4(self):\n",
        "    if input(\"Do you have {}?\".format(f['E'])).lower() == 'yes':\n",
        "      self.declare(Fact(E=f['E']))\n",
        "\n",
        "  @Rule( Fact(initial=f['initial']), NOT( Fact(A=f['A']) ), NOT( Fact(F=f['F']) ), salience=8)\n",
        "  def pr5(self):\n",
        "    if input(\"Do you have {}?\".format(f['F'])).lower() == 'yes':\n",
        "      self.declare(Fact(F=f['F']))\n",
        "\n",
        "  @Rule( Fact(initial=f['initial']), NOT( Fact(A=f['A']) ), NOT( Fact(G=f['G']) ), salience=7)\n",
        "  def pr6(self):\n",
        "    if input(\"Do you have {}?\".format(f['G'])).lower() == 'yes':\n",
        "      self.declare(Fact(G=f['G']))\n",
        "\n",
        "  @Rule( Fact(initial=f['initial']), NOT( Fact(A=f['A']) ), NOT( Fact(H=f['H']) ), salience=6)\n",
        "  def pr7(self):\n",
        "    if input(\"Do you have {}?\".format(f['H'])).lower() == 'yes':\n",
        "      self.declare(Fact(H=f['H']))\n",
        "\n",
        "  @Rule( Fact(initial=f['initial']), NOT( Fact(A=f['A']) ), NOT( Fact(I=f['I']) ), salience=5)\n",
        "  def pr8(self):\n",
        "    if input(\"Do you have {}?\".format(f['I'])).lower() == 'yes':\n",
        "      self.declare(Fact(I=f['I']))\n",
        "\n",
        "  @Rule( Fact(initial=f['initial']), NOT( Fact(A=f['A']) ), NOT( Fact(J=f['J']) ), salience=12)\n",
        "  def pr9(self):\n",
        "    if input(\"Do you have {}?\".format(f['J'])).lower() == 'yes':\n",
        "      self.declare(Fact(J=f['J']))\n",
        "\n",
        "  @Rule( Fact(initial=f['initial']), NOT( Fact(A=f['A']) ), NOT( Fact(K=f['K']) ), salience=11)\n",
        "  def pr10(self):\n",
        "    if input(\"Do you have {}?\".format(f['K'])).lower() == 'yes':\n",
        "      self.declare(Fact(K=f['K']))\n",
        "\n",
        "  @Rule( Fact(initial=f['initial']), NOT( Fact(A=f['A']) ), NOT( Fact(L=f['L']) ), salience=2)\n",
        "  def pr11(self):\n",
        "    if input(\"Do you have {}?\".format(f['L'])).lower() == 'yes':\n",
        "      self.declare(Fact(L=f['L']))\n",
        "\n",
        "  @Rule( Fact(initial=f['initial']), NOT( Fact(A=f['A']) ), NOT( Fact(M=f['M']) ), salience=1)\n",
        "  def pr12(self):\n",
        "    if input(\"Do you have {}?\".format(f['M'])).lower() == 'yes':\n",
        "      self.declare(Fact(M=f['M']))\n",
        "\n",
        "  @Rule(AND( NOT( Fact(A=f['A']) ),\n",
        "            Fact(initial=f['initial']),\n",
        "            Fact(B=f['B']),\n",
        "            OR(\n",
        "               Fact(C=f['C']), Fact(D=f['D']), Fact(E=f['E'])\n",
        "               ),\n",
        "            Fact(F=f['F'])), salience=13)\n",
        "  def r1(self):\n",
        "    self.declare(Fact(A=f['A']))\n",
        "    print(\"REGLA 1 ACTIVADA -> Patient in Observation\")\n",
        "\n",
        "  @Rule(AND( NOT( Fact(A=f['A']) ),\n",
        "            Fact(initial=f['initial']),\n",
        "            Fact(B=f['B']),\n",
        "            OR(\n",
        "                Fact(C=f['C']), Fact(D=f['D']), Fact(E=f['E'])\n",
        "              ),\n",
        "            Fact(G=f['G']),\n",
        "            OR(\n",
        "                Fact(H=f['H']), Fact(I=f['I'])\n",
        "              )\n",
        "            ), salience=14)\n",
        "  def r2(self):\n",
        "    self.declare(Fact(A=f['A']))\n",
        "    print(\"REGLA 2 ACTIVADA -> Patient in Observation\")\n",
        "\n",
        "  @Rule(AND( NOT( Fact(A=f['A']) ),\n",
        "            Fact(initial=f['initial']),\n",
        "            Fact(J=f['J']),\n",
        "            OR(\n",
        "                Fact(K=f['K']), Fact(L=f['L']), Fact(M=f['M']), AND(\n",
        "                                            Fact(H=f['H']), Fact(B=f['B'])\n",
        "                                            )\n",
        "              )\n",
        "            ), salience=15)\n",
        "  def r3(self):\n",
        "    self.declare(Fact(A=f['A']))\n",
        "    print(\"REGLA 3 ACTIVADA -> Patient in Observation\")"
      ]
    },
    {
      "cell_type": "code",
      "execution_count": null,
      "metadata": {
        "colab": {
          "base_uri": "https://localhost:8080/"
        },
        "id": "4646hZYYWWGG",
        "outputId": "14d70172-59a4-454f-d631-0f829c01c6aa"
      },
      "outputs": [
        {
          "name": "stdout",
          "output_type": "stream",
          "text": [
            "Antes:  <f-0>: InitialFact()\n",
            "<f-1>: Fact(initial='initial')\n",
            "Do you have Patient with acute respiratory infection from mild to heavy?yes\n",
            "Do you have Contacted with patient confirmed or probable Covid-19 within 14 days before symptom?no\n",
            "Do you have Fever >= 38 Celsius?yes\n",
            "Do you have Cough?yes\n",
            "Do you have mild or heavy according to clinical and/or image of radiology?no\n",
            "Do you have Immunocompromised?no\n",
            "Do you have Having historical trip to China or region or country where the disease spread within 14 days before the first symptom?no\n",
            "Do you have Medical officer who get sick with same symptom after nursing patient with acute respiratory infection with unknown caused, without bothered by historical trip or live?no\n",
            "Do you have Flu?no\n",
            "Do you have Sore throat?no\n",
            "Do you have Having historical contact with infected animal (if it has been identified) within 14 days before symptom?no\n",
            "Do you have Working or visiting public health service which has cases of confirmed or probable COVID-19 in China or region or country that has been infected within 14 days before symptom?yes\n",
            "REGLA 3 ACTIVADA -> Patient in Observation\n",
            "Después:  <f-0>: InitialFact()\n",
            "<f-1>: Fact(initial='initial')\n",
            "<f-2>: Fact(J='Patient with acute respiratory infection from mild to heavy')\n",
            "<f-3>: Fact(B='Fever >= 38 Celsius')\n",
            "<f-4>: Fact(C='Cough')\n",
            "<f-5>: Fact(M='Working or visiting public health service which has cases of confirmed or probable COVID-19 in China or region or country that has been infected within 14 days before symptom')\n",
            "<f-6>: Fact(A='PDP')\n"
          ]
        }
      ],
      "source": [
        "engine = Covid()\n",
        "engine.reset()\n",
        "print(\"Antes: \", engine.facts)\n",
        "\n",
        "engine.run()\n",
        "print(\"Después: \", engine.facts)"
      ]
    },
    {
      "cell_type": "code",
      "execution_count": null,
      "metadata": {
        "id": "TEk3KYu48qgi"
      },
      "outputs": [],
      "source": []
    }
  ],
  "metadata": {
    "colab": {
      "provenance": []
    },
    "kernelspec": {
      "display_name": "Python 3",
      "name": "python3"
    },
    "language_info": {
      "name": "python"
    }
  },
  "nbformat": 4,
  "nbformat_minor": 0
}
