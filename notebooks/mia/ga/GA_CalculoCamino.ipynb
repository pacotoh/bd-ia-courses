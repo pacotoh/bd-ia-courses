{
  "nbformat": 4,
  "nbformat_minor": 0,
  "metadata": {
    "colab": {
      "provenance": []
    },
    "kernelspec": {
      "name": "python3",
      "display_name": "Python 3"
    },
    "language_info": {
      "name": "python"
    }
  },
  "cells": [
    {
      "cell_type": "markdown",
      "source": [
        "# Cálculo del camino mínimo con Algoritmos genéticos\n",
        "En este ejercicio se desarrolla un algoritmo genético desde 0 para resolver el problema del cálculo del camino mínimo.\n",
        "\n",
        "En este caso, contamos con un brazo mecánico en una cadena de montaje. Dicho brazo debe calcular la ruta más corta para pasar por todos los puntos de una placa, en la que realizará incisiones para incorporar componentes electrónicos.\n",
        "\n",
        "Cada incisión tiene su componente en x y su componente en y, es decir, está compuesto por el valor [x, y]. Se deberá tener en cuenta las distancias en x y las distancias en y para calcular el camino mínimo.\n",
        "Para calcular las distancias debemos utilizar cualquiera de las dos opciones siguientes:\n",
        "* Distancia de manhattan\n",
        "* Distancia euclídea\n",
        "\n",
        "A continuación tienes varias celdas donde crear el código necesario para resolver el problema.\n",
        "\n",
        "Nuestra misión es definir un algoritmo genético que nos ayude a pasar por todos los puntos, minimizando el camino recorrido."
      ],
      "metadata": {
        "id": "Zhv6kvMpx3Zr"
      }
    },
    {
      "cell_type": "code",
      "source": [
        "import matplotlib.pyplot as plt\n",
        "import random"
      ],
      "metadata": {
        "id": "ntCdW-cZrU12"
      },
      "execution_count": null,
      "outputs": []
    },
    {
      "cell_type": "code",
      "source": [
        "# PARAMS #\n",
        "numero_puntos = 20\n",
        "x_min, x_max = 0, 10\n",
        "y_min, y_max = 0, 10\n",
        "tamaño_poblacion = 300\n",
        "probabilidad_mutacion = 0.2\n",
        "generaciones = 100000\n",
        "# valores permitidos: intercambio y uniforme\n",
        "tipo_mutacion = 'intercambio'"
      ],
      "metadata": {
        "id": "WviZIwXOBecl"
      },
      "execution_count": null,
      "outputs": []
    },
    {
      "cell_type": "code",
      "execution_count": null,
      "metadata": {
        "id": "Cae87-LMxdTY"
      },
      "outputs": [],
      "source": [
        "# Entrada -> Conjunto de puntos a recorrer en un orden concreto (cromosoma)\n",
        "def generar_puntos():\n",
        "    puntos = []\n",
        "    for i in range(numero_puntos):\n",
        "      _x = random.randint(x_min, x_max)\n",
        "      _y = random.randint(y_min, y_max)\n",
        "      puntos.append((_x,_y))\n",
        "    return puntos"
      ]
    },
    {
      "cell_type": "code",
      "source": [
        "# Selección -> Debemos seleccionar el conjunto de movimientos a puntos\n",
        "# necesario para minimizar el coste de los movimientos.\n",
        "# Utiliza la selección por ranking\n",
        "\n",
        "# Selección de cromosomas para cruzar\n",
        "def seleccionar_cromosomas_cruce(poblacion, key=lambda ruta: calcular_fitness(ruta)):\n",
        "    #Cromosomas ordenados por mejor fitness\n",
        "    poblacion_ordenada = sorted(poblacion)\n",
        "    # Probabilidades de seleccion donde los cromosomas mejor clasificados tienen más probabilidades\n",
        "    probabilidad_por_clasificacion = [(2 * (len(poblacion) - i)) / (len(poblacion) * (len(poblacion) + 1)) for i in range(len(poblacion))]\n",
        "    # Selección de ambos padres para cruzar\n",
        "    indice_padre_1 = random.choices(range(len(poblacion)), weights=probabilidad_por_clasificacion)[0]\n",
        "    indice_padre_2 = random.choices(range(len(poblacion)), weights=probabilidad_por_clasificacion)[0]\n",
        "    parent1 = poblacion_ordenada[indice_padre_1]\n",
        "    parent2 = poblacion_ordenada[indice_padre_2]\n",
        "    return parent1, parent2"
      ],
      "metadata": {
        "id": "edFPMRKKyIef"
      },
      "execution_count": null,
      "outputs": []
    },
    {
      "cell_type": "code",
      "source": [
        "def plot(ruta):\n",
        "    valores_x = []\n",
        "    valores_y = []\n",
        "    for punto in ruta:\n",
        "      valores_x.append(punto[0])\n",
        "      valores_y.append(punto[1])\n",
        "    plt.plot(valores_x, valores_y, marker='o', linestyle='-', color='black')\n",
        "    plt.xlabel('X')\n",
        "    plt.ylabel('Y')\n",
        "    plt.title('Camino Mínimo')\n",
        "    plt.legend()\n",
        "    plt.show()"
      ],
      "metadata": {
        "id": "q0hvrajrr66A"
      },
      "execution_count": null,
      "outputs": []
    },
    {
      "cell_type": "code",
      "source": [
        "# Cálculo del fitness de un cromosoma\n",
        "def calcular_fitness(ruta):\n",
        "    distancia = 0\n",
        "    repetido = set()\n",
        "    for i in range(len(ruta) - 1):\n",
        "        distancia += distancia_manhattan(ruta[i], ruta[i+1])\n",
        "        if ruta[i] in repetido:\n",
        "           distancia = distancia * (10**2)\n",
        "        repetido.add(ruta[i])\n",
        "    return distancia"
      ],
      "metadata": {
        "id": "1QSbKb1Or_N2"
      },
      "execution_count": null,
      "outputs": []
    },
    {
      "cell_type": "code",
      "source": [
        "# Cálculo de la distancia manhattan\n",
        "def distancia_manhattan(punto1, punto2):\n",
        "    return abs(punto1[0] - punto2[0]) + abs(punto1[1] - punto2[1])"
      ],
      "metadata": {
        "id": "zFct4QbutM7G"
      },
      "execution_count": null,
      "outputs": []
    },
    {
      "cell_type": "code",
      "source": [
        "# Cruce -> Debemos utilizar el cruce plano (cruce por un punto)\n",
        "# Función de cruce\n",
        "def cruce(padre1, padre2):\n",
        "    punto_cruce = random.randint(0, len(padre1) - 1)\n",
        "    hijo1 = padre1[:punto_cruce] + padre2[punto_cruce:]\n",
        "    hijo2 = padre2[:punto_cruce] + padre2[punto_cruce:]\n",
        "    return hijo1, hijo2"
      ],
      "metadata": {
        "id": "nQNxhsfcyK44"
      },
      "execution_count": null,
      "outputs": []
    },
    {
      "cell_type": "code",
      "source": [
        "# Mutación -> Debes utilizar dos tipos distintos de mutaciones:\n",
        "# - mutación por intercambio\n",
        "# - mutación uniforme\n",
        "\n",
        "def mutacion_intercambio(individual):\n",
        "    idx1, idx2 = random.sample(range(len(individual)), 2)\n",
        "    individual[idx1], individual[idx2] = individual[idx2], individual[idx1]\n",
        "    return individual\n",
        "\n",
        "def mutacion_uniforme(individual,mutation_probability):\n",
        "    for i in range(len(individual)):\n",
        "        if random.random() < mutation_probability:\n",
        "            idx1, idx2 = random.sample(range(len(individual)), 2)\n",
        "            individual[idx1], individual[idx2] = individual[idx2], individual[idx1]\n",
        "    return individual"
      ],
      "metadata": {
        "id": "bsU4DqfVyGIs"
      },
      "execution_count": null,
      "outputs": []
    },
    {
      "cell_type": "code",
      "source": [
        "# función para generar una población\n",
        "def generar_poblacion(puntos, tamaño_poblacion):\n",
        "    poblacion = []\n",
        "    for i in range(tamaño_poblacion):\n",
        "        ruta = puntos.copy()\n",
        "        random.shuffle(ruta)\n",
        "        poblacion.append(ruta)\n",
        "    return poblacion"
      ],
      "metadata": {
        "id": "vFOTKjUvxIbV"
      },
      "execution_count": null,
      "outputs": []
    },
    {
      "cell_type": "code",
      "source": [
        "### EJECUCIÓN ###\n",
        "\n",
        "print(\"\\nParámetros del algoritmo genético:\")\n",
        "print(\"Tamaño de población:\", tamaño_poblacion)\n",
        "print(\"Probabilidad de mutación:\", probabilidad_mutacion)\n",
        "print(\"Generaciones máximas:\", generaciones, \"\\n\")\n",
        "\n",
        "\n",
        "def ejecucion():\n",
        "  soluciones = []\n",
        "  best_fitness = float('inf')\n",
        "  puntos = generar_puntos()\n",
        "\n",
        "  # Cálculo de la primera generación\n",
        "  poblacion = generar_poblacion(puntos, tamaño_poblacion)\n",
        "\n",
        "  # Bucle ejecución de las generaciones\n",
        "  for generacion in range(generaciones):\n",
        "      # Selección de cromosomas para el cruce\n",
        "\n",
        "      padre1, padre2 = seleccionar_cromosomas_cruce(poblacion)\n",
        "\n",
        "      # Cruce y generación de hijos\n",
        "      hijo1, hijo2 = cruce(padre1.copy(), padre2.copy())\n",
        "\n",
        "      # Mutación de hijos\n",
        "      if random.random() < probabilidad_mutacion:\n",
        "        if random.random() < 0.5:\n",
        "          hijo1 = mutacion_intercambio(hijo1)\n",
        "          hijo2 = mutacion_intercambio(hijo2)\n",
        "        else:\n",
        "          hijo1 = mutacion_uniforme(hijo1,probabilidad_mutacion)\n",
        "          hijo2 = mutacion_uniforme(hijo2,probabilidad_mutacion)\n",
        "\n",
        "      # Reemplazo de la población\n",
        "      poblacion = [hijo1, hijo2] + poblacion[2:]\n",
        "\n",
        "  mejor_solucion = min(poblacion, key=calcular_fitness)\n",
        "  return mejor_solucion"
      ],
      "metadata": {
        "colab": {
          "base_uri": "https://localhost:8080/"
        },
        "id": "mVM9OJ3ow7MF",
        "outputId": "20b699ee-f407-4f1b-b115-e16dfe396e98"
      },
      "execution_count": null,
      "outputs": [
        {
          "output_type": "stream",
          "name": "stdout",
          "text": [
            "\n",
            "Parámetros del algoritmo genético:\n",
            "Tamaño de población: 300\n",
            "Probabilidad de mutación: 0.2\n",
            "Generaciones máximas: 3000 \n",
            "\n"
          ]
        }
      ]
    },
    {
      "cell_type": "code",
      "source": [
        "solucion = ejecucion()\n",
        "print(\"\\nMejor solución:\")\n",
        "print(solucion)\n",
        "print(sorted(solucion))"
      ],
      "metadata": {
        "colab": {
          "base_uri": "https://localhost:8080/"
        },
        "id": "zem5zM_k4N-e",
        "outputId": "add6562b-da54-4c70-86d4-a234127042d8"
      },
      "execution_count": null,
      "outputs": [
        {
          "output_type": "stream",
          "name": "stdout",
          "text": [
            "\n",
            "Mejor solución:\n",
            "[(0, 5), (2, 5), (0, 5), (5, 4), (7, 10), (2, 9), (7, 5), (4, 6), (4, 8), (0, 8), (3, 3), (6, 0), (3, 2), (6, 2), (9, 5), (1, 1), (5, 8), (9, 4), (7, 5), (2, 5)]\n",
            "[(0, 5), (0, 5), (0, 8), (1, 1), (2, 5), (2, 5), (2, 9), (3, 2), (3, 3), (4, 6), (4, 8), (5, 4), (5, 8), (6, 0), (6, 2), (7, 5), (7, 5), (7, 10), (9, 4), (9, 5)]\n"
          ]
        }
      ]
    },
    {
      "cell_type": "code",
      "source": [
        "plot(solucion)"
      ],
      "metadata": {
        "colab": {
          "base_uri": "https://localhost:8080/",
          "height": 509
        },
        "id": "Et0mkzzSCjaB",
        "outputId": "4fe47854-1910-45e6-eb91-4f312df610cc"
      },
      "execution_count": null,
      "outputs": [
        {
          "output_type": "stream",
          "name": "stderr",
          "text": [
            "WARNING:matplotlib.legend:No artists with labels found to put in legend.  Note that artists whose label start with an underscore are ignored when legend() is called with no argument.\n"
          ]
        },
        {
          "output_type": "display_data",
          "data": {
            "text/plain": [
              "<Figure size 640x480 with 1 Axes>"
            ],
            "image/png": "[encoded data removed]"
          },
          "metadata": {}
        }
      ]
    }
  ]
}