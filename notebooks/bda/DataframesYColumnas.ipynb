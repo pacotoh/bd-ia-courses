{
  "cells": [
    {
      "cell_type": "markdown",
      "metadata": {
        "id": "W8vCqToaqE7a"
      },
      "source": [
        "# DataFrame & Column\n",
        "##### Objetivos\n",
        "1. Construir columnas\n",
        "1. Seleccionar columnas\n",
        "1. Agregar o reemplazar columnas\n",
        "1. Seleccionar filas\n",
        "1. Ordenar filas\n",
        "\n",
        "##### Métodos\n",
        "- <a href=\"https://spark.apache.org/docs/latest/api/python/reference/pyspark.sql/dataframe.html\" target=\"_blank\">DataFrame</a>: **`select`**, **`selectExpr`**, **`drop`**, **`withColumn`**, **`withColumnRenamed`**, **`filter`**, **`distinct`**, **`limit`**, **`sort`**\n",
        "- <a href=\"https://spark.apache.org/docs/latest/api/python/reference/pyspark.sql/column.html\" target=\"_blank\">Column</a>: **`alias`**, **`isin`**, **`cast`**, **`isNotNull`**, **`desc`**, operators"
      ]
    },
    {
      "cell_type": "code",
      "execution_count": null,
      "metadata": {
        "colab": {
          "base_uri": "https://localhost:8080/"
        },
        "id": "sAkb8m7vj5K5",
        "outputId": "780aa2aa-0b0b-4f6b-9e56-617a93757e58"
      },
      "outputs": [
        {
          "name": "stdout",
          "output_type": "stream",
          "text": [
            "Collecting pyspark\n",
            "  Downloading pyspark-3.5.0.tar.gz (316.9 MB)\n",
            "\u001b[2K     \u001b[90m━━━━━━━━━━━━━━━━━━━━━━━━━━━━━━━━━━━━━━━━\u001b[0m \u001b[32m316.9/316.9 MB\u001b[0m \u001b[31m4.9 MB/s\u001b[0m eta \u001b[36m0:00:00\u001b[0m\n",
            "\u001b[?25h  Preparing metadata (setup.py) ... \u001b[?25l\u001b[?25hdone\n",
            "Requirement already satisfied: py4j==0.10.9.7 in /usr/local/lib/python3.10/dist-packages (from pyspark) (0.10.9.7)\n",
            "Building wheels for collected packages: pyspark\n",
            "  Building wheel for pyspark (setup.py) ... \u001b[?25l\u001b[?25hdone\n",
            "  Created wheel for pyspark: filename=pyspark-3.5.0-py2.py3-none-any.whl size=317425345 sha256=8488b0017c610cee9f56c09e213b51b393873a4320d585c3a93790a39bc64555\n",
            "  Stored in directory: /root/.cache/pip/wheels/41/4e/10/c2cf2467f71c678cfc8a6b9ac9241e5e44a01940da8fbb17fc\n",
            "Successfully built pyspark\n",
            "Installing collected packages: pyspark\n",
            "Successfully installed pyspark-3.5.0\n"
          ]
        }
      ],
      "source": [
        "%pip install pyspark"
      ]
    },
    {
      "cell_type": "code",
      "execution_count": null,
      "metadata": {
        "id": "UVIAYeETldn5"
      },
      "outputs": [],
      "source": [
        "from pyspark.sql import SparkSession\n",
        "from pyspark import SparkContext\n",
        "\n",
        "spark = SparkSession.builder.master('local[*]').appName('dfcolumns').getOrCreate()\n",
        "sc = SparkContext.getOrCreate()"
      ]
    },
    {
      "cell_type": "code",
      "execution_count": null,
      "metadata": {
        "id": "j2j4HpAWljuQ"
      },
      "outputs": [],
      "source": [
        "df = spark.read.csv('/content/sample_data/california_housing_test.csv', header=True)\n",
        "df.createOrReplaceTempView('cht')"
      ]
    },
    {
      "cell_type": "markdown",
      "metadata": {
        "id": "nFu7knjSq06w"
      },
      "source": [
        "## Expresiones de Columna\n",
        "\n",
        "Una <a href=\"https://spark.apache.org/docs/latest/api/python/reference/pyspark.sql/column.html\" target=\"_blank\">Columna</a> es una construcción lógica que se calculará en función de los datos en un DataFrame mediante una expresión.\n",
        "\n",
        "Construye una nueva Columna basada en columnas existentes en un DataFrame\n"
      ]
    },
    {
      "cell_type": "code",
      "execution_count": null,
      "metadata": {
        "colab": {
          "base_uri": "https://localhost:8080/"
        },
        "id": "5DdyyGe-qrlP",
        "outputId": "dce63a57-b9a5-402f-d700-7ab7b87c7fe0"
      },
      "outputs": [
        {
          "name": "stdout",
          "output_type": "stream",
          "text": [
            "Column<'median_house_value'>\n",
            "Column<'median_house_value'>\n",
            "Column<'median_house_value'>\n"
          ]
        }
      ],
      "source": [
        "from pyspark.sql.functions import col\n",
        "\n",
        "print(df.median_house_value)\n",
        "print(df['median_house_value'])\n",
        "print(col('median_house_value'))"
      ]
    },
    {
      "cell_type": "markdown",
      "metadata": {
        "id": "X4tOzV4srVYD"
      },
      "source": [
        "### Operadores y métodos de columna\n",
        "| Method | Description |\n",
        "| --- | --- |\n",
        "| \\*, + , <, >= | Math and comparison operators |\n",
        "| ==, != | Equality and inequality tests (Scala operators are **`===`** and **`=!=`**) |\n",
        "| alias | Gives the column an alias |\n",
        "| cast, astype | Casts the column to a different data type |\n",
        "| isNull, isNotNull, isNan | Is null, is not null, is NaN |\n",
        "| asc, desc | Returns a sort expression based on ascending/descending order of the column |"
      ]
    },
    {
      "cell_type": "code",
      "execution_count": null,
      "metadata": {
        "colab": {
          "base_uri": "https://localhost:8080/"
        },
        "id": "nU_tEgAZrJKx",
        "outputId": "a9573c5c-4c02-4f51-9e78-49e5ace3385f"
      },
      "outputs": [
        {
          "data": {
            "text/plain": [
              "Column<'CAST((housing_median_age * 100) AS INT)'>"
            ]
          },
          "execution_count": 7,
          "metadata": {},
          "output_type": "execute_result"
        }
      ],
      "source": [
        "col(\"median_house_value\") + col(\"median_income\")\n",
        "col(\"total_bedrooms\").desc()\n",
        "(col(\"housing_median_age\") * 100).cast(\"int\")"
      ]
    },
    {
      "cell_type": "code",
      "execution_count": null,
      "metadata": {
        "id": "Mf2ODJGHsfnF"
      },
      "outputs": [],
      "source": [
        "rev_df = (df\n",
        "         .filter(col('total_rooms').isNotNull())\n",
        "         .withColumn(\"income\", (col(\"median_income\") * 100).cast(\"int\"))\n",
        "         .sort(col(\"housing_median_age\").desc())\n",
        "        )"
      ]
    },
    {
      "cell_type": "code",
      "execution_count": null,
      "metadata": {
        "colab": {
          "base_uri": "https://localhost:8080/"
        },
        "id": "jSatoKVHtLJd",
        "outputId": "7f5d9e0b-1f67-4a8a-c023-69c6daf2acac"
      },
      "outputs": [
        {
          "name": "stdout",
          "output_type": "stream",
          "text": [
            "+-----------+---------+------------------+------------+--------------+-----------+-----------+-------------+------------------+------+\n",
            "|  longitude| latitude|housing_median_age| total_rooms|total_bedrooms| population| households|median_income|median_house_value|income|\n",
            "+-----------+---------+------------------+------------+--------------+-----------+-----------+-------------+------------------+------+\n",
            "|-118.630000|34.240000|          9.000000| 4759.000000|    924.000000|1884.000000| 915.000000|     4.833300|     277200.000000|   483|\n",
            "|-116.240000|33.760000|          9.000000| 1961.000000|    595.000000| 966.000000| 275.000000|     3.812500|      96700.000000|   381|\n",
            "|-122.510000|38.760000|          9.000000| 2589.000000|    482.000000|1050.000000| 374.000000|     4.043500|     132600.000000|   404|\n",
            "|-117.190000|32.770000|          9.000000|  634.000000|    152.000000| 248.000000| 133.000000|     3.857100|     143800.000000|   385|\n",
            "|-121.930000|38.010000|          9.000000| 2294.000000|    389.000000|1142.000000| 365.000000|     5.336300|     160800.000000|   533|\n",
            "|-117.680000|35.610000|          9.000000| 4241.000000|    832.000000|1929.000000| 742.000000|     3.598800|      84500.000000|   359|\n",
            "|-117.960000|34.140000|          9.000000|  907.000000|    207.000000| 619.000000| 194.000000|     3.946400|     179600.000000|   394|\n",
            "|-121.870000|37.390000|          9.000000| 2522.000000|    547.000000|1591.000000| 481.000000|     4.909100|     259700.000000|   490|\n",
            "|-117.230000|33.910000|          9.000000|11654.000000|   2100.000000|7596.000000|2127.000000|     4.047300|     127200.000000|   404|\n",
            "|-121.300000|37.950000|          9.000000|  674.000000|    242.000000| 575.000000| 193.000000|     2.202400|      45000.000000|   220|\n",
            "|-120.980000|38.660000|          9.000000| 2073.000000|    404.000000| 916.000000| 373.000000|     3.225000|     163300.000000|   322|\n",
            "|-117.970000|33.880000|          9.000000| 1344.000000|    279.000000| 530.000000| 265.000000|     5.073100|     185100.000000|   507|\n",
            "|-117.820000|33.710000|          9.000000| 5206.000000|    992.000000|4660.000000| 978.000000|     2.885000|     162500.000000|   288|\n",
            "|-120.790000|37.080000|          9.000000|   97.000000|     20.000000|  91.000000|  22.000000|     2.906300|      55000.000000|   290|\n",
            "|-117.770000|33.720000|          9.000000| 2153.000000|    316.000000| 954.000000| 324.000000|     7.813900|     304700.000000|   781|\n",
            "|-117.340000|34.490000|          9.000000| 3293.000000|    585.000000|1678.000000| 530.000000|     3.294100|      98300.000000|   329|\n",
            "|-119.560000|36.510000|          9.000000| 3860.000000|    809.000000|2157.000000| 770.000000|     2.503300|      70100.000000|   250|\n",
            "|-117.260000|33.260000|          9.000000| 4609.000000|    798.000000|2582.000000| 746.000000|     4.342900|     173900.000000|   434|\n",
            "|-122.200000|39.930000|          9.000000| 1296.000000|    287.000000| 768.000000| 260.000000|     1.919100|      54400.000000|   191|\n",
            "|-122.740000|38.460000|          9.000000| 2268.000000|    594.000000|1311.000000| 585.000000|     2.660700|      91500.000000|   266|\n",
            "+-----------+---------+------------------+------------+--------------+-----------+-----------+-------------+------------------+------+\n",
            "only showing top 20 rows\n",
            "\n"
          ]
        }
      ],
      "source": [
        "rev_df.show()"
      ]
    },
    {
      "cell_type": "markdown",
      "metadata": {
        "id": "wapYbpqetUO_"
      },
      "source": [
        "## Métodos de transformación de DataFrames\n",
        "| Method | Description |\n",
        "| --- | --- |\n",
        "| **`select`** | Returns a new DataFrame by computing given expression for each element |\n",
        "| **`drop`** | Returns a new DataFrame with a column dropped |\n",
        "| **`withColumnRenamed`** | Returns a new DataFrame with a column renamed |\n",
        "| **`withColumn`** | Returns a new DataFrame by adding a column or replacing the existing column that has the same name |\n",
        "| **`filter`**, **`where`** | Filters rows using the given condition |\n",
        "| **`sort`**, **`orderBy`** | Returns a new DataFrame sorted by the given expressions |\n",
        "| **`dropDuplicates`**, **`distinct`** | Returns a new DataFrame with duplicate rows removed |\n",
        "| **`limit`** | Returns a new DataFrame by taking the first n rows |\n",
        "| **`groupBy`** | Groups the DataFrame using the specified columns, so we can run aggregation on them |"
      ]
    },
    {
      "cell_type": "markdown",
      "metadata": {
        "id": "rbcoOxJftdfL"
      },
      "source": [
        "### Subconjunto de columnas"
      ]
    },
    {
      "cell_type": "code",
      "execution_count": null,
      "metadata": {
        "id": "zxeD6sFptN4c"
      },
      "outputs": [],
      "source": [
        "df.select('longitude', 'latitude').show()"
      ]
    },
    {
      "cell_type": "code",
      "execution_count": null,
      "metadata": {
        "colab": {
          "base_uri": "https://localhost:8080/"
        },
        "id": "EZhE8Z2etnFU",
        "outputId": "b8ade1f6-3a6b-4a07-80ba-52a92d76e35a"
      },
      "outputs": [
        {
          "name": "stdout",
          "output_type": "stream",
          "text": [
            "+-----------+-----------+\n",
            "|      rooms|   bedrooms|\n",
            "+-----------+-----------+\n",
            "|3885.000000| 661.000000|\n",
            "|1510.000000| 310.000000|\n",
            "|3589.000000| 507.000000|\n",
            "|  67.000000|  15.000000|\n",
            "|1241.000000| 244.000000|\n",
            "|1018.000000| 213.000000|\n",
            "|1009.000000| 225.000000|\n",
            "|2310.000000| 471.000000|\n",
            "|3080.000000| 617.000000|\n",
            "|2402.000000| 632.000000|\n",
            "| 972.000000| 249.000000|\n",
            "| 736.000000| 166.000000|\n",
            "|1089.000000| 182.000000|\n",
            "|3936.000000| 694.000000|\n",
            "|2097.000000| 325.000000|\n",
            "| 161.000000|  40.000000|\n",
            "| 570.000000| 123.000000|\n",
            "|3077.000000| 607.000000|\n",
            "|1590.000000| 196.000000|\n",
            "|8814.000000|1307.000000|\n",
            "+-----------+-----------+\n",
            "only showing top 20 rows\n",
            "\n"
          ]
        }
      ],
      "source": [
        "from pyspark.sql.functions import col\n",
        "\n",
        "df_rooms = df.select(\n",
        "    col('total_rooms').alias('rooms'),\n",
        "    col('total_bedrooms').alias('bedrooms')\n",
        ")\n",
        "\n",
        "df_rooms.show()"
      ]
    },
    {
      "cell_type": "code",
      "execution_count": null,
      "metadata": {
        "id": "07MGzQdjuCEs"
      },
      "outputs": [],
      "source": [
        "df_households = df.selectExpr('longitude', 'latitude', \"total_rooms == 67 as rooms_67\")"
      ]
    },
    {
      "cell_type": "code",
      "execution_count": null,
      "metadata": {
        "colab": {
          "base_uri": "https://localhost:8080/"
        },
        "id": "KREbJEdDup8N",
        "outputId": "96a19e7b-2c4a-409b-f9c6-09cf1cff104e"
      },
      "outputs": [
        {
          "name": "stdout",
          "output_type": "stream",
          "text": [
            "+-----------+---------+--------+\n",
            "|  longitude| latitude|rooms_67|\n",
            "+-----------+---------+--------+\n",
            "|-118.360000|33.820000|    true|\n",
            "+-----------+---------+--------+\n",
            "\n"
          ]
        }
      ],
      "source": [
        "df_households.filter('rooms_67 == true').show()"
      ]
    },
    {
      "cell_type": "markdown",
      "metadata": {
        "id": "jEbSWI4AvVD-"
      },
      "source": [
        "#### drop()\n",
        "Devuelve un nuevo DataFrame después de eliminar la columna proporcionada, especificada como una cadena o un objeto Column"
      ]
    },
    {
      "cell_type": "code",
      "execution_count": null,
      "metadata": {
        "id": "vprq8ZP2urgK"
      },
      "outputs": [],
      "source": [
        "no_longitude_df = df.drop(col('longitude'))"
      ]
    },
    {
      "cell_type": "code",
      "execution_count": null,
      "metadata": {
        "colab": {
          "base_uri": "https://localhost:8080/"
        },
        "id": "yPq_SAH7vfbp",
        "outputId": "2943ba75-687e-4dbb-86f7-5a05049bcf57"
      },
      "outputs": [
        {
          "name": "stdout",
          "output_type": "stream",
          "text": [
            "+---------+------------------+-----------+--------------+-----------+-----------+-------------+------------------+\n",
            "| latitude|housing_median_age|total_rooms|total_bedrooms| population| households|median_income|median_house_value|\n",
            "+---------+------------------+-----------+--------------+-----------+-----------+-------------+------------------+\n",
            "|37.370000|         27.000000|3885.000000|    661.000000|1537.000000| 606.000000|     6.608500|     344700.000000|\n",
            "|34.260000|         43.000000|1510.000000|    310.000000| 809.000000| 277.000000|     3.599000|     176500.000000|\n",
            "|33.780000|         27.000000|3589.000000|    507.000000|1484.000000| 495.000000|     5.793400|     270500.000000|\n",
            "|33.820000|         28.000000|  67.000000|     15.000000|  49.000000|  11.000000|     6.135900|     330000.000000|\n",
            "|36.330000|         19.000000|1241.000000|    244.000000| 850.000000| 237.000000|     2.937500|      81700.000000|\n",
            "|36.510000|         37.000000|1018.000000|    213.000000| 663.000000| 204.000000|     1.663500|      67000.000000|\n",
            "|38.630000|         43.000000|1009.000000|    225.000000| 604.000000| 218.000000|     1.664100|      67000.000000|\n",
            "|35.480000|         19.000000|2310.000000|    471.000000|1341.000000| 441.000000|     3.225000|     166900.000000|\n",
            "|38.400000|         15.000000|3080.000000|    617.000000|1446.000000| 599.000000|     3.669600|     194400.000000|\n",
            "|34.080000|         31.000000|2402.000000|    632.000000|2830.000000| 603.000000|     2.333300|     164200.000000|\n",
            "|33.980000|         45.000000| 972.000000|    249.000000|1288.000000| 261.000000|     2.205400|     125000.000000|\n",
            "|35.850000|         37.000000| 736.000000|    166.000000| 564.000000| 138.000000|     2.416700|      58300.000000|\n",
            "|37.250000|         36.000000|1089.000000|    182.000000| 535.000000| 170.000000|     4.690000|     252600.000000|\n",
            "|32.970000|         16.000000|3936.000000|    694.000000|1935.000000| 659.000000|     4.562500|     231200.000000|\n",
            "|33.730000|         27.000000|2097.000000|    325.000000|1217.000000| 331.000000|     5.712100|     222500.000000|\n",
            "|33.810000|         42.000000| 161.000000|     40.000000| 157.000000|  50.000000|     2.200000|     153100.000000|\n",
            "|37.530000|         15.000000| 570.000000|    123.000000| 189.000000| 107.000000|     1.875000|     181300.000000|\n",
            "|38.690000|         26.000000|3077.000000|    607.000000|1603.000000| 595.000000|     2.717400|     137500.000000|\n",
            "|34.210000|         26.000000|1590.000000|    196.000000| 654.000000| 199.000000|     6.585100|     300000.000000|\n",
            "|38.010000|         35.000000|8814.000000|   1307.000000|3450.000000|1258.000000|     6.172400|     414300.000000|\n",
            "+---------+------------------+-----------+--------------+-----------+-----------+-------------+------------------+\n",
            "only showing top 20 rows\n",
            "\n"
          ]
        }
      ],
      "source": [
        "no_longitude_df.show()"
      ]
    },
    {
      "cell_type": "markdown",
      "metadata": {
        "id": "ah_ZQAT-vxq6"
      },
      "source": [
        "#### Añadir o reemplazar columnas\n",
        "\n",
        "##### withColumn()"
      ]
    },
    {
      "cell_type": "code",
      "execution_count": null,
      "metadata": {
        "id": "Qaa7TI8LviF9"
      },
      "outputs": [],
      "source": [
        "df_latitude_rounded = df.withColumn('latitude_rounded', col('latitude').cast('int'))"
      ]
    },
    {
      "cell_type": "code",
      "execution_count": null,
      "metadata": {
        "colab": {
          "base_uri": "https://localhost:8080/"
        },
        "id": "KaDnPl6UwPOl",
        "outputId": "6bb1c7c1-db3e-4540-ba79-d19ff28f0ebd"
      },
      "outputs": [
        {
          "name": "stdout",
          "output_type": "stream",
          "text": [
            "+-----------+---------+------------------+-----------+--------------+-----------+-----------+-------------+------------------+----------------+\n",
            "|  longitude| latitude|housing_median_age|total_rooms|total_bedrooms| population| households|median_income|median_house_value|latitude_rounded|\n",
            "+-----------+---------+------------------+-----------+--------------+-----------+-----------+-------------+------------------+----------------+\n",
            "|-122.050000|37.370000|         27.000000|3885.000000|    661.000000|1537.000000| 606.000000|     6.608500|     344700.000000|              37|\n",
            "|-118.300000|34.260000|         43.000000|1510.000000|    310.000000| 809.000000| 277.000000|     3.599000|     176500.000000|              34|\n",
            "|-117.810000|33.780000|         27.000000|3589.000000|    507.000000|1484.000000| 495.000000|     5.793400|     270500.000000|              33|\n",
            "|-118.360000|33.820000|         28.000000|  67.000000|     15.000000|  49.000000|  11.000000|     6.135900|     330000.000000|              33|\n",
            "|-119.670000|36.330000|         19.000000|1241.000000|    244.000000| 850.000000| 237.000000|     2.937500|      81700.000000|              36|\n",
            "|-119.560000|36.510000|         37.000000|1018.000000|    213.000000| 663.000000| 204.000000|     1.663500|      67000.000000|              36|\n",
            "|-121.430000|38.630000|         43.000000|1009.000000|    225.000000| 604.000000| 218.000000|     1.664100|      67000.000000|              38|\n",
            "|-120.650000|35.480000|         19.000000|2310.000000|    471.000000|1341.000000| 441.000000|     3.225000|     166900.000000|              35|\n",
            "|-122.840000|38.400000|         15.000000|3080.000000|    617.000000|1446.000000| 599.000000|     3.669600|     194400.000000|              38|\n",
            "|-118.020000|34.080000|         31.000000|2402.000000|    632.000000|2830.000000| 603.000000|     2.333300|     164200.000000|              34|\n",
            "|-118.240000|33.980000|         45.000000| 972.000000|    249.000000|1288.000000| 261.000000|     2.205400|     125000.000000|              33|\n",
            "|-119.120000|35.850000|         37.000000| 736.000000|    166.000000| 564.000000| 138.000000|     2.416700|      58300.000000|              35|\n",
            "|-121.930000|37.250000|         36.000000|1089.000000|    182.000000| 535.000000| 170.000000|     4.690000|     252600.000000|              37|\n",
            "|-117.030000|32.970000|         16.000000|3936.000000|    694.000000|1935.000000| 659.000000|     4.562500|     231200.000000|              32|\n",
            "|-117.970000|33.730000|         27.000000|2097.000000|    325.000000|1217.000000| 331.000000|     5.712100|     222500.000000|              33|\n",
            "|-117.990000|33.810000|         42.000000| 161.000000|     40.000000| 157.000000|  50.000000|     2.200000|     153100.000000|              33|\n",
            "|-120.810000|37.530000|         15.000000| 570.000000|    123.000000| 189.000000| 107.000000|     1.875000|     181300.000000|              37|\n",
            "|-121.200000|38.690000|         26.000000|3077.000000|    607.000000|1603.000000| 595.000000|     2.717400|     137500.000000|              38|\n",
            "|-118.880000|34.210000|         26.000000|1590.000000|    196.000000| 654.000000| 199.000000|     6.585100|     300000.000000|              34|\n",
            "|-122.590000|38.010000|         35.000000|8814.000000|   1307.000000|3450.000000|1258.000000|     6.172400|     414300.000000|              38|\n",
            "+-----------+---------+------------------+-----------+--------------+-----------+-----------+-------------+------------------+----------------+\n",
            "only showing top 20 rows\n",
            "\n"
          ]
        }
      ],
      "source": [
        "df_latitude_rounded.show()"
      ]
    },
    {
      "cell_type": "code",
      "execution_count": null,
      "metadata": {
        "colab": {
          "base_uri": "https://localhost:8080/"
        },
        "id": "frs8I39CwUeA",
        "outputId": "82c4e515-8295-49e6-9151-4133c4190340"
      },
      "outputs": [
        {
          "name": "stdout",
          "output_type": "stream",
          "text": [
            "root\n",
            " |-- longitude: string (nullable = true)\n",
            " |-- latitude: string (nullable = true)\n",
            " |-- housing_median_age: string (nullable = true)\n",
            " |-- total_rooms: string (nullable = true)\n",
            " |-- total_bedrooms: string (nullable = true)\n",
            " |-- population: string (nullable = true)\n",
            " |-- households: string (nullable = true)\n",
            " |-- median_income: string (nullable = true)\n",
            " |-- median_house_value: string (nullable = true)\n",
            " |-- latitude_rounded: integer (nullable = true)\n",
            "\n"
          ]
        }
      ],
      "source": [
        "df_latitude_rounded.printSchema()"
      ]
    },
    {
      "cell_type": "markdown",
      "metadata": {
        "id": "-KKFaZ2Vw1Zw"
      },
      "source": [
        "#### Subconjunto de filas\n",
        "\n",
        "Filtra las filas basándose en una condición a nivel de columna.\n",
        "\n",
        "Alias: where"
      ]
    },
    {
      "cell_type": "code",
      "execution_count": null,
      "metadata": {
        "colab": {
          "base_uri": "https://localhost:8080/"
        },
        "id": "er9eco8NwxNE",
        "outputId": "f0e15a6a-24ae-4c9b-fb1c-4713ba371095"
      },
      "outputs": [
        {
          "name": "stdout",
          "output_type": "stream",
          "text": [
            "+-----------+---------+------------------+-----------+--------------+-----------+-----------+-------------+------------------+----------------+\n",
            "|  longitude| latitude|housing_median_age|total_rooms|total_bedrooms| population| households|median_income|median_house_value|latitude_rounded|\n",
            "+-----------+---------+------------------+-----------+--------------+-----------+-----------+-------------+------------------+----------------+\n",
            "|-121.430000|38.630000|         43.000000|1009.000000|    225.000000| 604.000000| 218.000000|     1.664100|      67000.000000|              38|\n",
            "|-122.840000|38.400000|         15.000000|3080.000000|    617.000000|1446.000000| 599.000000|     3.669600|     194400.000000|              38|\n",
            "|-121.200000|38.690000|         26.000000|3077.000000|    607.000000|1603.000000| 595.000000|     2.717400|     137500.000000|              38|\n",
            "|-122.590000|38.010000|         35.000000|8814.000000|   1307.000000|3450.000000|1258.000000|     6.172400|     414300.000000|              38|\n",
            "|-121.370000|38.680000|         36.000000|1775.000000|    296.000000| 937.000000| 305.000000|     3.178600|      83400.000000|              38|\n",
            "|-121.130000|39.310000|         17.000000|3442.000000|    705.000000|1693.000000| 619.000000|     2.810200|     128900.000000|              39|\n",
            "|-121.350000|38.000000|          6.000000|1649.000000|    369.000000| 732.000000| 350.000000|     3.423100|     123800.000000|              38|\n",
            "|-121.420000|38.720000|         10.000000|3054.000000|    528.000000|1932.000000| 510.000000|     3.090300|      91900.000000|              38|\n",
            "|-121.670000|40.870000|         31.000000|1581.000000|    299.000000| 776.000000| 287.000000|     2.906300|      77800.000000|              40|\n",
            "|-123.790000|39.500000|         24.000000|1421.000000|    291.000000| 588.000000| 274.000000|     2.325000|     157300.000000|              39|\n",
            "|-122.050000|38.260000|         21.000000|7195.000000|   1416.000000|3927.000000|1377.000000|     3.091200|     126300.000000|              38|\n",
            "|-123.520000|41.010000|         17.000000|1564.000000|    345.000000| 517.000000| 222.000000|     2.154200|      83800.000000|              41|\n",
            "|-120.970000|38.420000|         16.000000|1748.000000|    322.000000|4930.000000| 287.000000|     4.302900|     121900.000000|              38|\n",
            "|-121.190000|38.870000|         20.000000|3118.000000|    500.000000|1405.000000| 519.000000|     6.000000|     209400.000000|              38|\n",
            "|-121.310000|38.620000|         31.000000|3114.000000|    430.000000|1121.000000| 456.000000|     6.244000|     240000.000000|              38|\n",
            "|-121.510000|38.520000|         30.000000|3236.000000|    588.000000|1167.000000| 569.000000|     4.097200|     181400.000000|              38|\n",
            "|-124.160000|40.770000|         35.000000|2141.000000|    438.000000|1053.000000| 434.000000|     2.852900|      85600.000000|              40|\n",
            "|-121.740000|38.550000|         34.000000|2299.000000|    579.000000|1300.000000| 536.000000|     1.643500|     148500.000000|              38|\n",
            "|-122.450000|40.460000|         16.000000|2734.000000|    501.000000|1413.000000| 484.000000|     2.808500|     105700.000000|              40|\n",
            "|-121.470000|39.490000|         17.000000|1554.000000|    242.000000| 553.000000| 230.000000|     3.217400|      91800.000000|              39|\n",
            "+-----------+---------+------------------+-----------+--------------+-----------+-----------+-------------+------------------+----------------+\n",
            "only showing top 20 rows\n",
            "\n"
          ]
        }
      ],
      "source": [
        "df_latitude_rounded.filter('latitude_rounded > 37').show()"
      ]
    },
    {
      "cell_type": "code",
      "execution_count": null,
      "metadata": {
        "colab": {
          "base_uri": "https://localhost:8080/"
        },
        "id": "t4uJ3E3oxIbZ",
        "outputId": "77074ab5-2049-422c-bb44-1cc9a510ab0f"
      },
      "outputs": [
        {
          "name": "stdout",
          "output_type": "stream",
          "text": [
            "+-----------+---------+------------------+-----------+--------------+-----------+-----------+-------------+------------------+----------------+\n",
            "|  longitude| latitude|housing_median_age|total_rooms|total_bedrooms| population| households|median_income|median_house_value|latitude_rounded|\n",
            "+-----------+---------+------------------+-----------+--------------+-----------+-----------+-------------+------------------+----------------+\n",
            "|-122.050000|37.370000|         27.000000|3885.000000|    661.000000|1537.000000| 606.000000|     6.608500|     344700.000000|              37|\n",
            "|-118.300000|34.260000|         43.000000|1510.000000|    310.000000| 809.000000| 277.000000|     3.599000|     176500.000000|              34|\n",
            "|-117.810000|33.780000|         27.000000|3589.000000|    507.000000|1484.000000| 495.000000|     5.793400|     270500.000000|              33|\n",
            "|-118.360000|33.820000|         28.000000|  67.000000|     15.000000|  49.000000|  11.000000|     6.135900|     330000.000000|              33|\n",
            "|-119.670000|36.330000|         19.000000|1241.000000|    244.000000| 850.000000| 237.000000|     2.937500|      81700.000000|              36|\n",
            "|-119.560000|36.510000|         37.000000|1018.000000|    213.000000| 663.000000| 204.000000|     1.663500|      67000.000000|              36|\n",
            "|-121.430000|38.630000|         43.000000|1009.000000|    225.000000| 604.000000| 218.000000|     1.664100|      67000.000000|              38|\n",
            "|-120.650000|35.480000|         19.000000|2310.000000|    471.000000|1341.000000| 441.000000|     3.225000|     166900.000000|              35|\n",
            "|-122.840000|38.400000|         15.000000|3080.000000|    617.000000|1446.000000| 599.000000|     3.669600|     194400.000000|              38|\n",
            "|-118.020000|34.080000|         31.000000|2402.000000|    632.000000|2830.000000| 603.000000|     2.333300|     164200.000000|              34|\n",
            "|-118.240000|33.980000|         45.000000| 972.000000|    249.000000|1288.000000| 261.000000|     2.205400|     125000.000000|              33|\n",
            "|-119.120000|35.850000|         37.000000| 736.000000|    166.000000| 564.000000| 138.000000|     2.416700|      58300.000000|              35|\n",
            "|-121.930000|37.250000|         36.000000|1089.000000|    182.000000| 535.000000| 170.000000|     4.690000|     252600.000000|              37|\n",
            "|-117.030000|32.970000|         16.000000|3936.000000|    694.000000|1935.000000| 659.000000|     4.562500|     231200.000000|              32|\n",
            "|-117.970000|33.730000|         27.000000|2097.000000|    325.000000|1217.000000| 331.000000|     5.712100|     222500.000000|              33|\n",
            "|-117.990000|33.810000|         42.000000| 161.000000|     40.000000| 157.000000|  50.000000|     2.200000|     153100.000000|              33|\n",
            "|-120.810000|37.530000|         15.000000| 570.000000|    123.000000| 189.000000| 107.000000|     1.875000|     181300.000000|              37|\n",
            "|-121.200000|38.690000|         26.000000|3077.000000|    607.000000|1603.000000| 595.000000|     2.717400|     137500.000000|              38|\n",
            "|-118.880000|34.210000|         26.000000|1590.000000|    196.000000| 654.000000| 199.000000|     6.585100|     300000.000000|              34|\n",
            "|-122.590000|38.010000|         35.000000|8814.000000|   1307.000000|3450.000000|1258.000000|     6.172400|     414300.000000|              38|\n",
            "+-----------+---------+------------------+-----------+--------------+-----------+-----------+-------------+------------------+----------------+\n",
            "only showing top 20 rows\n",
            "\n"
          ]
        }
      ],
      "source": [
        "df_latitude_rounded.filter(col('total_rooms').isNotNull()).show()"
      ]
    },
    {
      "cell_type": "markdown",
      "metadata": {
        "id": "0rS7ROEfxaPW"
      },
      "source": [
        "#### dropDuplicates()\n",
        "\n",
        "Devuelve un nuevo DataFrame con las filas duplicadas eliminadas.\n",
        "\n",
        "Alias: distinct"
      ]
    },
    {
      "cell_type": "code",
      "execution_count": null,
      "metadata": {
        "colab": {
          "base_uri": "https://localhost:8080/"
        },
        "id": "h3ImUE8MxTJ2",
        "outputId": "d71c923a-c66c-45fe-dadd-2e5d5f61eadc"
      },
      "outputs": [
        {
          "name": "stdout",
          "output_type": "stream",
          "text": [
            "+----------------+\n",
            "|latitude_rounded|\n",
            "+----------------+\n",
            "|              34|\n",
            "|              40|\n",
            "|              41|\n",
            "|              37|\n",
            "|              35|\n",
            "|              39|\n",
            "|              38|\n",
            "|              32|\n",
            "|              33|\n",
            "|              36|\n",
            "+----------------+\n",
            "\n"
          ]
        }
      ],
      "source": [
        "df_latitude_rounded.select('latitude_rounded').distinct().show()"
      ]
    },
    {
      "cell_type": "markdown",
      "metadata": {
        "id": "9bX2LpcyxuyV"
      },
      "source": [
        "#### limit()\n",
        "\n",
        "Devuelve un DataFrame solo con las primeras n filas."
      ]
    },
    {
      "cell_type": "code",
      "execution_count": null,
      "metadata": {
        "colab": {
          "base_uri": "https://localhost:8080/"
        },
        "id": "zVStQdbTxpDP",
        "outputId": "65670871-f403-4bbf-a2a3-cbe7f429c08b"
      },
      "outputs": [
        {
          "name": "stdout",
          "output_type": "stream",
          "text": [
            "+-----------+---------+------------------+-----------+--------------+-----------+----------+-------------+------------------+----------------+\n",
            "|  longitude| latitude|housing_median_age|total_rooms|total_bedrooms| population|households|median_income|median_house_value|latitude_rounded|\n",
            "+-----------+---------+------------------+-----------+--------------+-----------+----------+-------------+------------------+----------------+\n",
            "|-122.050000|37.370000|         27.000000|3885.000000|    661.000000|1537.000000|606.000000|     6.608500|     344700.000000|              37|\n",
            "|-118.300000|34.260000|         43.000000|1510.000000|    310.000000| 809.000000|277.000000|     3.599000|     176500.000000|              34|\n",
            "|-117.810000|33.780000|         27.000000|3589.000000|    507.000000|1484.000000|495.000000|     5.793400|     270500.000000|              33|\n",
            "+-----------+---------+------------------+-----------+--------------+-----------+----------+-------------+------------------+----------------+\n",
            "\n"
          ]
        }
      ],
      "source": [
        "limit_df = df_latitude_rounded.limit(3).show()"
      ]
    },
    {
      "cell_type": "markdown",
      "metadata": {
        "id": "xVde6T35x_gr"
      },
      "source": [
        "#### sort()\n",
        "\n",
        "Alias: orderBy"
      ]
    },
    {
      "cell_type": "code",
      "execution_count": null,
      "metadata": {
        "colab": {
          "base_uri": "https://localhost:8080/"
        },
        "id": "SrznbqUvx7rF",
        "outputId": "2f7b280b-25b6-4d32-9e78-9499c00af8ed"
      },
      "outputs": [
        {
          "name": "stdout",
          "output_type": "stream",
          "text": [
            "+----------------+\n",
            "|latitude_rounded|\n",
            "+----------------+\n",
            "|              32|\n",
            "|              33|\n",
            "|              34|\n",
            "|              35|\n",
            "|              36|\n",
            "|              37|\n",
            "|              38|\n",
            "|              39|\n",
            "|              40|\n",
            "|              41|\n",
            "+----------------+\n",
            "\n"
          ]
        }
      ],
      "source": [
        "df_latitude_rounded.select('latitude_rounded').distinct().sort('latitude_rounded').show()"
      ]
    },
    {
      "cell_type": "code",
      "execution_count": null,
      "metadata": {
        "colab": {
          "base_uri": "https://localhost:8080/"
        },
        "id": "i5VE_p5eyDfM",
        "outputId": "a6da372f-4e73-45e0-b403-be359f75f3ca"
      },
      "outputs": [
        {
          "name": "stdout",
          "output_type": "stream",
          "text": [
            "+----------------+\n",
            "|latitude_rounded|\n",
            "+----------------+\n",
            "|              41|\n",
            "|              40|\n",
            "|              39|\n",
            "|              38|\n",
            "|              37|\n",
            "|              36|\n",
            "|              35|\n",
            "|              34|\n",
            "|              33|\n",
            "|              32|\n",
            "+----------------+\n",
            "\n"
          ]
        }
      ],
      "source": [
        "df_latitude_rounded.select('latitude_rounded').distinct().sort(col('latitude_rounded').desc()).show()"
      ]
    }
  ],
  "metadata": {
    "colab": {
      "provenance": []
    },
    "kernelspec": {
      "display_name": "Python 3",
      "name": "python3"
    },
    "language_info": {
      "name": "python"
    }
  },
  "nbformat": 4,
  "nbformat_minor": 0
}
