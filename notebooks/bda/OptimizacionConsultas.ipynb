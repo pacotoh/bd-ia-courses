{
  "cells": [
    {
      "cell_type": "markdown",
      "metadata": {
        "id": "7d3-3NbOO08w"
      },
      "source": [
        "# Optimización de Consultas\n",
        "\n",
        "Exploraremos planes de consulta y optimizaciones para varios ejemplos, incluyendo optimizaciones lógicas y ejemplos con y sin \"predicate pushdown\".\n",
        "\n",
        "Métodos\n",
        "\n",
        "<a href=\"https://spark.apache.org/docs/3.1.3/api/python/reference/api/pyspark.sql.DataFrame.explain.html#pyspark.sql.DataFrame.explain\" target=\"_blank\">DataFrame</a>: explain"
      ]
    },
    {
      "cell_type": "markdown",
      "metadata": {
        "id": "TMQzKu0MOt_X"
      },
      "source": [
        "### Optimización Lógica\n",
        "\n",
        "El método explain(..) imprime los planes de consulta, opcionalmente formateados por un modo de explicación dado. Compara el siguiente plan lógico y plan físico, observando cómo Catalyst maneja las múltiples transformaciones de filter."
      ]
    },
    {
      "cell_type": "code",
      "execution_count": null,
      "metadata": {
        "colab": {
          "base_uri": "https://localhost:8080/"
        },
        "id": "afMHglFxwCr5",
        "outputId": "196f9ba1-1259-44ad-9ea3-e5e3c7bad2e4"
      },
      "outputs": [
        {
          "name": "stdout",
          "output_type": "stream",
          "text": [
            "Collecting pyspark\n",
            "  Downloading pyspark-3.5.0.tar.gz (316.9 MB)\n",
            "\u001b[2K     \u001b[90m━━━━━━━━━━━━━━━━━━━━━━━━━━━━━━━━━━━━━━━━\u001b[0m \u001b[32m316.9/316.9 MB\u001b[0m \u001b[31m3.3 MB/s\u001b[0m eta \u001b[36m0:00:00\u001b[0m\n",
            "\u001b[?25h  Preparing metadata (setup.py) ... \u001b[?25l\u001b[?25hdone\n",
            "Requirement already satisfied: py4j==0.10.9.7 in /usr/local/lib/python3.10/dist-packages (from pyspark) (0.10.9.7)\n",
            "Building wheels for collected packages: pyspark\n",
            "  Building wheel for pyspark (setup.py) ... \u001b[?25l\u001b[?25hdone\n",
            "  Created wheel for pyspark: filename=pyspark-3.5.0-py2.py3-none-any.whl size=317425345 sha256=ccae0ddba7045eaf894eb38e2fdb48460be58407a4e2ad7f2c6078f74befe82e\n",
            "  Stored in directory: /root/.cache/pip/wheels/41/4e/10/c2cf2467f71c678cfc8a6b9ac9241e5e44a01940da8fbb17fc\n",
            "Successfully built pyspark\n",
            "Installing collected packages: pyspark\n",
            "Successfully installed pyspark-3.5.0\n"
          ]
        }
      ],
      "source": [
        "%pip install pyspark"
      ]
    },
    {
      "cell_type": "code",
      "execution_count": null,
      "metadata": {
        "id": "ep6PJgNzwFQB"
      },
      "outputs": [],
      "source": [
        "from pyspark.sql import SparkSession\n",
        "from pyspark import SparkContext\n",
        "\n",
        "spark = SparkSession.builder.master('local[*]').appName('query-opt').getOrCreate()\n",
        "sc = SparkContext.getOrCreate()"
      ]
    },
    {
      "cell_type": "code",
      "execution_count": null,
      "metadata": {
        "colab": {
          "base_uri": "https://localhost:8080/"
        },
        "id": "KUxcBVOCOj8B",
        "outputId": "646b5fb8-d83b-450c-ea20-238e31d210ba"
      },
      "outputs": [
        {
          "name": "stdout",
          "output_type": "stream",
          "text": [
            "Collecting ucimlrepo\n",
            "  Downloading ucimlrepo-0.0.3-py3-none-any.whl (7.0 kB)\n",
            "Installing collected packages: ucimlrepo\n",
            "Successfully installed ucimlrepo-0.0.3\n"
          ]
        }
      ],
      "source": [
        "%pip install ucimlrepo"
      ]
    },
    {
      "cell_type": "code",
      "execution_count": null,
      "metadata": {
        "id": "C7RpI1kVPhHW"
      },
      "outputs": [],
      "source": [
        "from ucimlrepo import fetch_ucirepo\n",
        "\n",
        "automobile = fetch_ucirepo(id=10)\n",
        "df_auto = spark.createDataFrame(automobile.data.features)"
      ]
    },
    {
      "cell_type": "code",
      "execution_count": null,
      "metadata": {
        "colab": {
          "base_uri": "https://localhost:8080/"
        },
        "id": "CiUywM29ZAS1",
        "outputId": "2aadff3c-d2cb-4664-e241-2c811bb7be20"
      },
      "outputs": [
        {
          "name": "stdout",
          "output_type": "stream",
          "text": [
            "+-------+-----------+--------+--------+----------+-----------------+------+----+-----------+-----------+----------------+-----------+-----------+------+-----+------+----------+---------------+------------+-----------+------------+----------+---------+-----------+-----------------+\n",
            "|  price|highway-mpg|city-mpg|peak-rpm|horsepower|compression-ratio|stroke|bore|fuel-system|engine-size|num-of-cylinders|engine-type|curb-weight|height|width|length|wheel-base|engine-location|drive-wheels| body-style|num-of-doors|aspiration|fuel-type|       make|normalized-losses|\n",
            "+-------+-----------+--------+--------+----------+-----------------+------+----+-----------+-----------+----------------+-----------+-----------+------+-----+------+----------+---------------+------------+-----------+------------+----------+---------+-----------+-----------------+\n",
            "|13495.0|         27|      21|  5000.0|     111.0|              9.0|  2.68|3.47|       mpfi|        130|               4|       dohc|       2548|  48.8| 64.1| 168.8|      88.6|          front|         rwd|convertible|         2.0|       std|      gas|alfa-romero|              NaN|\n",
            "|16500.0|         27|      21|  5000.0|     111.0|              9.0|  2.68|3.47|       mpfi|        130|               4|       dohc|       2548|  48.8| 64.1| 168.8|      88.6|          front|         rwd|convertible|         2.0|       std|      gas|alfa-romero|              NaN|\n",
            "|16500.0|         26|      19|  5000.0|     154.0|              9.0|  3.47|2.68|       mpfi|        152|               6|       ohcv|       2823|  52.4| 65.5| 171.2|      94.5|          front|         rwd|  hatchback|         2.0|       std|      gas|alfa-romero|              NaN|\n",
            "|13950.0|         30|      24|  5500.0|     102.0|             10.0|   3.4|3.19|       mpfi|        109|               4|        ohc|       2337|  54.3| 66.2| 176.6|      99.8|          front|         fwd|      sedan|         4.0|       std|      gas|       audi|            164.0|\n",
            "|17450.0|         22|      18|  5500.0|     115.0|              8.0|   3.4|3.19|       mpfi|        136|               5|        ohc|       2824|  54.3| 66.4| 176.6|      99.4|          front|         4wd|      sedan|         4.0|       std|      gas|       audi|            164.0|\n",
            "|15250.0|         25|      19|  5500.0|     110.0|              8.5|   3.4|3.19|       mpfi|        136|               5|        ohc|       2507|  53.1| 66.3| 177.3|      99.8|          front|         fwd|      sedan|         2.0|       std|      gas|       audi|              NaN|\n",
            "|17710.0|         25|      19|  5500.0|     110.0|              8.5|   3.4|3.19|       mpfi|        136|               5|        ohc|       2844|  55.7| 71.4| 192.7|     105.8|          front|         fwd|      sedan|         4.0|       std|      gas|       audi|            158.0|\n",
            "|18920.0|         25|      19|  5500.0|     110.0|              8.5|   3.4|3.19|       mpfi|        136|               5|        ohc|       2954|  55.7| 71.4| 192.7|     105.8|          front|         fwd|      wagon|         4.0|       std|      gas|       audi|              NaN|\n",
            "|23875.0|         20|      17|  5500.0|     140.0|              8.3|   3.4|3.13|       mpfi|        131|               5|        ohc|       3086|  55.9| 71.4| 192.7|     105.8|          front|         fwd|      sedan|         4.0|     turbo|      gas|       audi|            158.0|\n",
            "|    NaN|         22|      16|  5500.0|     160.0|              7.0|   3.4|3.13|       mpfi|        131|               5|        ohc|       3053|  52.0| 67.9| 178.2|      99.5|          front|         4wd|  hatchback|         2.0|     turbo|      gas|       audi|              NaN|\n",
            "|16430.0|         29|      23|  5800.0|     101.0|              8.8|   2.8| 3.5|       mpfi|        108|               4|        ohc|       2395|  54.3| 64.8| 176.8|     101.2|          front|         rwd|      sedan|         2.0|       std|      gas|        bmw|            192.0|\n",
            "|16925.0|         29|      23|  5800.0|     101.0|              8.8|   2.8| 3.5|       mpfi|        108|               4|        ohc|       2395|  54.3| 64.8| 176.8|     101.2|          front|         rwd|      sedan|         4.0|       std|      gas|        bmw|            192.0|\n",
            "|20970.0|         28|      21|  4250.0|     121.0|              9.0|  3.19|3.31|       mpfi|        164|               6|        ohc|       2710|  54.3| 64.8| 176.8|     101.2|          front|         rwd|      sedan|         2.0|       std|      gas|        bmw|            188.0|\n",
            "|21105.0|         28|      21|  4250.0|     121.0|              9.0|  3.19|3.31|       mpfi|        164|               6|        ohc|       2765|  54.3| 64.8| 176.8|     101.2|          front|         rwd|      sedan|         4.0|       std|      gas|        bmw|            188.0|\n",
            "|24565.0|         25|      20|  4250.0|     121.0|              9.0|  3.19|3.31|       mpfi|        164|               6|        ohc|       3055|  55.7| 66.9| 189.0|     103.5|          front|         rwd|      sedan|         4.0|       std|      gas|        bmw|              NaN|\n",
            "|30760.0|         22|      16|  5400.0|     182.0|              8.0|  3.39|3.62|       mpfi|        209|               6|        ohc|       3230|  55.7| 66.9| 189.0|     103.5|          front|         rwd|      sedan|         4.0|       std|      gas|        bmw|              NaN|\n",
            "|41315.0|         22|      16|  5400.0|     182.0|              8.0|  3.39|3.62|       mpfi|        209|               6|        ohc|       3380|  53.7| 67.9| 193.8|     103.5|          front|         rwd|      sedan|         2.0|       std|      gas|        bmw|              NaN|\n",
            "|36880.0|         20|      15|  5400.0|     182.0|              8.0|  3.39|3.62|       mpfi|        209|               6|        ohc|       3505|  56.3| 70.9| 197.0|     110.0|          front|         rwd|      sedan|         4.0|       std|      gas|        bmw|              NaN|\n",
            "| 5151.0|         53|      47|  5100.0|      48.0|              9.5|  3.03|2.91|       2bbl|         61|               3|          l|       1488|  53.2| 60.3| 141.1|      88.4|          front|         fwd|  hatchback|         2.0|       std|      gas|  chevrolet|            121.0|\n",
            "| 6295.0|         43|      38|  5400.0|      70.0|              9.6|  3.11|3.03|       2bbl|         90|               4|        ohc|       1874|  52.0| 63.6| 155.9|      94.5|          front|         fwd|  hatchback|         2.0|       std|      gas|  chevrolet|             98.0|\n",
            "+-------+-----------+--------+--------+----------+-----------------+------+----+-----------+-----------+----------------+-----------+-----------+------+-----+------+----------+---------------+------------+-----------+------------+----------+---------+-----------+-----------------+\n",
            "only showing top 20 rows\n",
            "\n"
          ]
        }
      ],
      "source": [
        "df_auto.show()"
      ]
    },
    {
      "cell_type": "code",
      "execution_count": null,
      "metadata": {
        "colab": {
          "base_uri": "https://localhost:8080/"
        },
        "id": "EUARmjpKPn84",
        "outputId": "25b456da-fdc6-4780-f05e-73312ac34ead"
      },
      "outputs": [
        {
          "name": "stdout",
          "output_type": "stream",
          "text": [
            "== Parsed Logical Plan ==\n",
            "'Filter NOT ('fuel-system = spfi)\n",
            "+- Filter NOT (fuel-system#8 = spdi)\n",
            "   +- Filter NOT (fuel-system#8 = mpfi)\n",
            "      +- Filter NOT (fuel-system#8 = mfi)\n",
            "         +- Filter NOT (fuel-system#8 = idi)\n",
            "            +- Filter NOT (fuel-system#8 = 4bbl)\n",
            "               +- Filter NOT (fuel-system#8 = 2bbl)\n",
            "                  +- Filter NOT (fuel-system#8 = 1bbl)\n",
            "                     +- LogicalRDD [price#0, highway-mpg#1L, city-mpg#2L, peak-rpm#3, horsepower#4, compression-ratio#5, stroke#6, bore#7, fuel-system#8, engine-size#9L, num-of-cylinders#10L, engine-type#11, curb-weight#12L, height#13, width#14, length#15, wheel-base#16, engine-location#17, drive-wheels#18, body-style#19, num-of-doors#20, aspiration#21, fuel-type#22, make#23, normalized-losses#24], false\n",
            "\n",
            "== Analyzed Logical Plan ==\n",
            "price: double, highway-mpg: bigint, city-mpg: bigint, peak-rpm: double, horsepower: double, compression-ratio: double, stroke: double, bore: double, fuel-system: string, engine-size: bigint, num-of-cylinders: bigint, engine-type: string, curb-weight: bigint, height: double, width: double, length: double, wheel-base: double, engine-location: string, drive-wheels: string, body-style: string, num-of-doors: double, aspiration: string, fuel-type: string, make: string, normalized-losses: double\n",
            "Filter NOT (fuel-system#8 = spfi)\n",
            "+- Filter NOT (fuel-system#8 = spdi)\n",
            "   +- Filter NOT (fuel-system#8 = mpfi)\n",
            "      +- Filter NOT (fuel-system#8 = mfi)\n",
            "         +- Filter NOT (fuel-system#8 = idi)\n",
            "            +- Filter NOT (fuel-system#8 = 4bbl)\n",
            "               +- Filter NOT (fuel-system#8 = 2bbl)\n",
            "                  +- Filter NOT (fuel-system#8 = 1bbl)\n",
            "                     +- LogicalRDD [price#0, highway-mpg#1L, city-mpg#2L, peak-rpm#3, horsepower#4, compression-ratio#5, stroke#6, bore#7, fuel-system#8, engine-size#9L, num-of-cylinders#10L, engine-type#11, curb-weight#12L, height#13, width#14, length#15, wheel-base#16, engine-location#17, drive-wheels#18, body-style#19, num-of-doors#20, aspiration#21, fuel-type#22, make#23, normalized-losses#24], false\n",
            "\n",
            "== Optimized Logical Plan ==\n",
            "Filter (isnotnull(fuel-system#8) AND (((NOT (fuel-system#8 = 1bbl) AND NOT (fuel-system#8 = 2bbl)) AND (NOT (fuel-system#8 = 4bbl) AND NOT (fuel-system#8 = idi))) AND (((NOT (fuel-system#8 = mfi) AND NOT (fuel-system#8 = mpfi)) AND NOT (fuel-system#8 = spdi)) AND NOT (fuel-system#8 = spfi))))\n",
            "+- LogicalRDD [price#0, highway-mpg#1L, city-mpg#2L, peak-rpm#3, horsepower#4, compression-ratio#5, stroke#6, bore#7, fuel-system#8, engine-size#9L, num-of-cylinders#10L, engine-type#11, curb-weight#12L, height#13, width#14, length#15, wheel-base#16, engine-location#17, drive-wheels#18, body-style#19, num-of-doors#20, aspiration#21, fuel-type#22, make#23, normalized-losses#24], false\n",
            "\n",
            "== Physical Plan ==\n",
            "*(1) Filter (isnotnull(fuel-system#8) AND (((NOT (fuel-system#8 = 1bbl) AND NOT (fuel-system#8 = 2bbl)) AND (NOT (fuel-system#8 = 4bbl) AND NOT (fuel-system#8 = idi))) AND (((NOT (fuel-system#8 = mfi) AND NOT (fuel-system#8 = mpfi)) AND NOT (fuel-system#8 = spdi)) AND NOT (fuel-system#8 = spfi))))\n",
            "+- *(1) Scan ExistingRDD[price#0,highway-mpg#1L,city-mpg#2L,peak-rpm#3,horsepower#4,compression-ratio#5,stroke#6,bore#7,fuel-system#8,engine-size#9L,num-of-cylinders#10L,engine-type#11,curb-weight#12L,height#13,width#14,length#15,wheel-base#16,engine-location#17,drive-wheels#18,body-style#19,num-of-doors#20,aspiration#21,fuel-type#22,make#23,normalized-losses#24]\n",
            "\n"
          ]
        }
      ],
      "source": [
        "from pyspark.sql.functions import col\n",
        "\n",
        "limit_fuel_system = (\n",
        "    df_auto\n",
        "    .filter(col('fuel-system') != '1bbl')\n",
        "    .filter(col('fuel-system') != '2bbl')\n",
        "    .filter(col('fuel-system') != '4bbl')\n",
        "    .filter(col('fuel-system') != 'idi')\n",
        "    .filter(col('fuel-system') != 'mfi')\n",
        "    .filter(col('fuel-system') != 'mpfi')\n",
        "    .filter(col('fuel-system') != 'spdi')\n",
        "    .filter(col('fuel-system') != 'spfi')\n",
        ")\n",
        "\n",
        "limit_fuel_system.explain(True)"
      ]
    },
    {
      "cell_type": "code",
      "execution_count": null,
      "metadata": {
        "colab": {
          "base_uri": "https://localhost:8080/"
        },
        "id": "qOJwVzICQqFx",
        "outputId": "079e4d27-4382-493d-a177-5c28d9f47dbc"
      },
      "outputs": [
        {
          "name": "stdout",
          "output_type": "stream",
          "text": [
            "== Parsed Logical Plan ==\n",
            "'Filter ((((((((isnotnull('fuel-system) AND NOT ('fuel-system = 1bbl)) AND NOT ('fuel-system = 2bbl)) AND NOT ('fuel-system = 4bbl)) AND NOT ('fuel-system = idi)) AND NOT ('fuel-system = mfi)) AND NOT ('fuel-system = mpfi)) AND NOT ('fuel-system = spdi)) AND NOT ('fuel-system = spfi))\n",
            "+- LogicalRDD [price#0, highway-mpg#1L, city-mpg#2L, peak-rpm#3, horsepower#4, compression-ratio#5, stroke#6, bore#7, fuel-system#8, engine-size#9L, num-of-cylinders#10L, engine-type#11, curb-weight#12L, height#13, width#14, length#15, wheel-base#16, engine-location#17, drive-wheels#18, body-style#19, num-of-doors#20, aspiration#21, fuel-type#22, make#23, normalized-losses#24], false\n",
            "\n",
            "== Analyzed Logical Plan ==\n",
            "price: double, highway-mpg: bigint, city-mpg: bigint, peak-rpm: double, horsepower: double, compression-ratio: double, stroke: double, bore: double, fuel-system: string, engine-size: bigint, num-of-cylinders: bigint, engine-type: string, curb-weight: bigint, height: double, width: double, length: double, wheel-base: double, engine-location: string, drive-wheels: string, body-style: string, num-of-doors: double, aspiration: string, fuel-type: string, make: string, normalized-losses: double\n",
            "Filter ((((((((isnotnull(fuel-system#8) AND NOT (fuel-system#8 = 1bbl)) AND NOT (fuel-system#8 = 2bbl)) AND NOT (fuel-system#8 = 4bbl)) AND NOT (fuel-system#8 = idi)) AND NOT (fuel-system#8 = mfi)) AND NOT (fuel-system#8 = mpfi)) AND NOT (fuel-system#8 = spdi)) AND NOT (fuel-system#8 = spfi))\n",
            "+- LogicalRDD [price#0, highway-mpg#1L, city-mpg#2L, peak-rpm#3, horsepower#4, compression-ratio#5, stroke#6, bore#7, fuel-system#8, engine-size#9L, num-of-cylinders#10L, engine-type#11, curb-weight#12L, height#13, width#14, length#15, wheel-base#16, engine-location#17, drive-wheels#18, body-style#19, num-of-doors#20, aspiration#21, fuel-type#22, make#23, normalized-losses#24], false\n",
            "\n",
            "== Optimized Logical Plan ==\n",
            "Filter ((((((((isnotnull(fuel-system#8) AND NOT (fuel-system#8 = 1bbl)) AND NOT (fuel-system#8 = 2bbl)) AND NOT (fuel-system#8 = 4bbl)) AND NOT (fuel-system#8 = idi)) AND NOT (fuel-system#8 = mfi)) AND NOT (fuel-system#8 = mpfi)) AND NOT (fuel-system#8 = spdi)) AND NOT (fuel-system#8 = spfi))\n",
            "+- LogicalRDD [price#0, highway-mpg#1L, city-mpg#2L, peak-rpm#3, horsepower#4, compression-ratio#5, stroke#6, bore#7, fuel-system#8, engine-size#9L, num-of-cylinders#10L, engine-type#11, curb-weight#12L, height#13, width#14, length#15, wheel-base#16, engine-location#17, drive-wheels#18, body-style#19, num-of-doors#20, aspiration#21, fuel-type#22, make#23, normalized-losses#24], false\n",
            "\n",
            "== Physical Plan ==\n",
            "*(1) Filter ((((((((isnotnull(fuel-system#8) AND NOT (fuel-system#8 = 1bbl)) AND NOT (fuel-system#8 = 2bbl)) AND NOT (fuel-system#8 = 4bbl)) AND NOT (fuel-system#8 = idi)) AND NOT (fuel-system#8 = mfi)) AND NOT (fuel-system#8 = mpfi)) AND NOT (fuel-system#8 = spdi)) AND NOT (fuel-system#8 = spfi))\n",
            "+- *(1) Scan ExistingRDD[price#0,highway-mpg#1L,city-mpg#2L,peak-rpm#3,horsepower#4,compression-ratio#5,stroke#6,bore#7,fuel-system#8,engine-size#9L,num-of-cylinders#10L,engine-type#11,curb-weight#12L,height#13,width#14,length#15,wheel-base#16,engine-location#17,drive-wheels#18,body-style#19,num-of-doors#20,aspiration#21,fuel-type#22,make#23,normalized-losses#24]\n",
            "\n"
          ]
        }
      ],
      "source": [
        "limit_fuel_system = (\n",
        "    df_auto\n",
        "    .filter((col('fuel-system').isNotNull()) &\n",
        "    (col('fuel-system') != '1bbl') &\n",
        "    (col('fuel-system') != '2bbl') &\n",
        "    (col('fuel-system') != '4bbl') &\n",
        "    (col('fuel-system') != 'idi') &\n",
        "    (col('fuel-system') != 'mfi') &\n",
        "    (col('fuel-system') != 'mpfi') &\n",
        "    (col('fuel-system') != 'spdi') &\n",
        "    (col('fuel-system') != 'spfi'))\n",
        ")\n",
        "\n",
        "limit_fuel_system.explain(True)"
      ]
    },
    {
      "cell_type": "code",
      "execution_count": null,
      "metadata": {
        "colab": {
          "base_uri": "https://localhost:8080/"
        },
        "id": "_wZ7MR0JRsHO",
        "outputId": "edab3fae-1f87-4836-a6df-379ff10ac80a"
      },
      "outputs": [
        {
          "name": "stdout",
          "output_type": "stream",
          "text": [
            "== Parsed Logical Plan ==\n",
            "'Filter NOT ('fuel-system = 1bbl)\n",
            "+- Filter NOT (fuel-system#8 = 1bbl)\n",
            "   +- Filter NOT (fuel-system#8 = 1bbl)\n",
            "      +- Filter NOT (fuel-system#8 = 1bbl)\n",
            "         +- Filter NOT (fuel-system#8 = 1bbl)\n",
            "            +- Filter NOT (fuel-system#8 = 1bbl)\n",
            "               +- Filter NOT (fuel-system#8 = 1bbl)\n",
            "                  +- Filter NOT (fuel-system#8 = 1bbl)\n",
            "                     +- LogicalRDD [price#0, highway-mpg#1L, city-mpg#2L, peak-rpm#3, horsepower#4, compression-ratio#5, stroke#6, bore#7, fuel-system#8, engine-size#9L, num-of-cylinders#10L, engine-type#11, curb-weight#12L, height#13, width#14, length#15, wheel-base#16, engine-location#17, drive-wheels#18, body-style#19, num-of-doors#20, aspiration#21, fuel-type#22, make#23, normalized-losses#24], false\n",
            "\n",
            "== Analyzed Logical Plan ==\n",
            "price: double, highway-mpg: bigint, city-mpg: bigint, peak-rpm: double, horsepower: double, compression-ratio: double, stroke: double, bore: double, fuel-system: string, engine-size: bigint, num-of-cylinders: bigint, engine-type: string, curb-weight: bigint, height: double, width: double, length: double, wheel-base: double, engine-location: string, drive-wheels: string, body-style: string, num-of-doors: double, aspiration: string, fuel-type: string, make: string, normalized-losses: double\n",
            "Filter NOT (fuel-system#8 = 1bbl)\n",
            "+- Filter NOT (fuel-system#8 = 1bbl)\n",
            "   +- Filter NOT (fuel-system#8 = 1bbl)\n",
            "      +- Filter NOT (fuel-system#8 = 1bbl)\n",
            "         +- Filter NOT (fuel-system#8 = 1bbl)\n",
            "            +- Filter NOT (fuel-system#8 = 1bbl)\n",
            "               +- Filter NOT (fuel-system#8 = 1bbl)\n",
            "                  +- Filter NOT (fuel-system#8 = 1bbl)\n",
            "                     +- LogicalRDD [price#0, highway-mpg#1L, city-mpg#2L, peak-rpm#3, horsepower#4, compression-ratio#5, stroke#6, bore#7, fuel-system#8, engine-size#9L, num-of-cylinders#10L, engine-type#11, curb-weight#12L, height#13, width#14, length#15, wheel-base#16, engine-location#17, drive-wheels#18, body-style#19, num-of-doors#20, aspiration#21, fuel-type#22, make#23, normalized-losses#24], false\n",
            "\n",
            "== Optimized Logical Plan ==\n",
            "Filter (isnotnull(fuel-system#8) AND NOT (fuel-system#8 = 1bbl))\n",
            "+- LogicalRDD [price#0, highway-mpg#1L, city-mpg#2L, peak-rpm#3, horsepower#4, compression-ratio#5, stroke#6, bore#7, fuel-system#8, engine-size#9L, num-of-cylinders#10L, engine-type#11, curb-weight#12L, height#13, width#14, length#15, wheel-base#16, engine-location#17, drive-wheels#18, body-style#19, num-of-doors#20, aspiration#21, fuel-type#22, make#23, normalized-losses#24], false\n",
            "\n",
            "== Physical Plan ==\n",
            "*(1) Filter (isnotnull(fuel-system#8) AND NOT (fuel-system#8 = 1bbl))\n",
            "+- *(1) Scan ExistingRDD[price#0,highway-mpg#1L,city-mpg#2L,peak-rpm#3,horsepower#4,compression-ratio#5,stroke#6,bore#7,fuel-system#8,engine-size#9L,num-of-cylinders#10L,engine-type#11,curb-weight#12L,height#13,width#14,length#15,wheel-base#16,engine-location#17,drive-wheels#18,body-style#19,num-of-doors#20,aspiration#21,fuel-type#22,make#23,normalized-losses#24]\n",
            "\n"
          ]
        }
      ],
      "source": [
        "limit_fuel_system = (\n",
        "    df_auto\n",
        "    .filter(col('fuel-system') != '1bbl')\n",
        "    .filter(col('fuel-system') != '1bbl')\n",
        "    .filter(col('fuel-system') != '1bbl')\n",
        "    .filter(col('fuel-system') != '1bbl')\n",
        "    .filter(col('fuel-system') != '1bbl')\n",
        "    .filter(col('fuel-system') != '1bbl')\n",
        "    .filter(col('fuel-system') != '1bbl')\n",
        "    .filter(col('fuel-system') != '1bbl')\n",
        ")\n",
        "\n",
        "limit_fuel_system.explain(True)"
      ]
    },
    {
      "cell_type": "markdown",
      "metadata": {
        "id": "I70Os_PNSYop"
      },
      "source": [
        "### Caché\n",
        "\n",
        "Por defecto, los datos de un DataFrame están presentes en un clúster de Spark solo mientras se están procesando durante una consulta; no se almacenan automáticamente en el clúster después. (Spark es un motor de procesamiento de datos, no un sistema de almacenamiento de datos). Puedes solicitar explícitamente a Spark que persista un DataFrame en el clúster invocando su método **`cache`**.\n",
        "\n",
        "Si decides cachear un DataFrame, siempre debes eliminarlo explícitamente de la caché invocando **`unpersist`** cuando ya no lo necesites.\n",
        "\n",
        "<img src=\"https://files.training.databricks.com/images/icon_best_32.png\" alt=\"Mejor Práctica\"> Cachear un DataFrame puede ser apropiado si estás seguro de que usarás el mismo DataFrame varias veces, como en:\n",
        "\n",
        "- Análisis exploratorio de datos\n",
        "- Entrenamiento de modelos de aprendizaje automático\n",
        "\n",
        "<img src=\"https://files.training.databricks.com/images/icon_warn_32.png\" alt=\"Advertencia\"> Aparte de esos casos de uso, **no** debes cachear DataFrames, ya que es probable que *degrades* el rendimiento de tu aplicación.\n",
        "\n",
        "- Cachear consume recursos del clúster que podrían usarse para la ejecución de tareas\n",
        "- Cachear puede evitar que Spark realice optimizaciones de consultas\n"
      ]
    },
    {
      "cell_type": "code",
      "execution_count": null,
      "metadata": {
        "colab": {
          "base_uri": "https://localhost:8080/"
        },
        "id": "8fMd4p8WSsQ7",
        "outputId": "32377b0a-f865-4450-c843-69160cf9724d"
      },
      "outputs": [
        {
          "name": "stdout",
          "output_type": "stream",
          "text": [
            "== Parsed Logical Plan ==\n",
            "LogicalRDD [price#0, highway-mpg#1L, city-mpg#2L, peak-rpm#3, horsepower#4, compression-ratio#5, stroke#6, bore#7, fuel-system#8, engine-size#9L, num-of-cylinders#10L, engine-type#11, curb-weight#12L, height#13, width#14, length#15, wheel-base#16, engine-location#17, drive-wheels#18, body-style#19, num-of-doors#20, aspiration#21, fuel-type#22, make#23, normalized-losses#24], false\n",
            "\n",
            "== Analyzed Logical Plan ==\n",
            "price: double, highway-mpg: bigint, city-mpg: bigint, peak-rpm: double, horsepower: double, compression-ratio: double, stroke: double, bore: double, fuel-system: string, engine-size: bigint, num-of-cylinders: bigint, engine-type: string, curb-weight: bigint, height: double, width: double, length: double, wheel-base: double, engine-location: string, drive-wheels: string, body-style: string, num-of-doors: double, aspiration: string, fuel-type: string, make: string, normalized-losses: double\n",
            "LogicalRDD [price#0, highway-mpg#1L, city-mpg#2L, peak-rpm#3, horsepower#4, compression-ratio#5, stroke#6, bore#7, fuel-system#8, engine-size#9L, num-of-cylinders#10L, engine-type#11, curb-weight#12L, height#13, width#14, length#15, wheel-base#16, engine-location#17, drive-wheels#18, body-style#19, num-of-doors#20, aspiration#21, fuel-type#22, make#23, normalized-losses#24], false\n",
            "\n",
            "== Optimized Logical Plan ==\n",
            "InMemoryRelation [price#0, highway-mpg#1L, city-mpg#2L, peak-rpm#3, horsepower#4, compression-ratio#5, stroke#6, bore#7, fuel-system#8, engine-size#9L, num-of-cylinders#10L, engine-type#11, curb-weight#12L, height#13, width#14, length#15, wheel-base#16, engine-location#17, drive-wheels#18, body-style#19, num-of-doors#20, aspiration#21, fuel-type#22, make#23, normalized-losses#24], StorageLevel(disk, memory, deserialized, 1 replicas)\n",
            "   +- *(1) Scan ExistingRDD[price#0,highway-mpg#1L,city-mpg#2L,peak-rpm#3,horsepower#4,compression-ratio#5,stroke#6,bore#7,fuel-system#8,engine-size#9L,num-of-cylinders#10L,engine-type#11,curb-weight#12L,height#13,width#14,length#15,wheel-base#16,engine-location#17,drive-wheels#18,body-style#19,num-of-doors#20,aspiration#21,fuel-type#22,make#23,normalized-losses#24]\n",
            "\n",
            "== Physical Plan ==\n",
            "AdaptiveSparkPlan isFinalPlan=false\n",
            "+- InMemoryTableScan [price#0, highway-mpg#1L, city-mpg#2L, peak-rpm#3, horsepower#4, compression-ratio#5, stroke#6, bore#7, fuel-system#8, engine-size#9L, num-of-cylinders#10L, engine-type#11, curb-weight#12L, height#13, width#14, length#15, wheel-base#16, engine-location#17, drive-wheels#18, body-style#19, num-of-doors#20, aspiration#21, fuel-type#22, make#23, normalized-losses#24]\n",
            "      +- InMemoryRelation [price#0, highway-mpg#1L, city-mpg#2L, peak-rpm#3, horsepower#4, compression-ratio#5, stroke#6, bore#7, fuel-system#8, engine-size#9L, num-of-cylinders#10L, engine-type#11, curb-weight#12L, height#13, width#14, length#15, wheel-base#16, engine-location#17, drive-wheels#18, body-style#19, num-of-doors#20, aspiration#21, fuel-type#22, make#23, normalized-losses#24], StorageLevel(disk, memory, deserialized, 1 replicas)\n",
            "            +- *(1) Scan ExistingRDD[price#0,highway-mpg#1L,city-mpg#2L,peak-rpm#3,horsepower#4,compression-ratio#5,stroke#6,bore#7,fuel-system#8,engine-size#9L,num-of-cylinders#10L,engine-type#11,curb-weight#12L,height#13,width#14,length#15,wheel-base#16,engine-location#17,drive-wheels#18,body-style#19,num-of-doors#20,aspiration#21,fuel-type#22,make#23,normalized-losses#24]\n",
            "\n"
          ]
        }
      ],
      "source": [
        "df_auto.cache()\n",
        "\n",
        "df_auto.explain(True)"
      ]
    },
    {
      "cell_type": "code",
      "execution_count": null,
      "metadata": {
        "colab": {
          "base_uri": "https://localhost:8080/"
        },
        "id": "i-_rqmVuS9hN",
        "outputId": "0b610717-012e-48b0-ffdf-ee4b0b48aa55"
      },
      "outputs": [
        {
          "data": {
            "text/plain": [
              "DataFrame[price: double, highway-mpg: bigint, city-mpg: bigint, peak-rpm: double, horsepower: double, compression-ratio: double, stroke: double, bore: double, fuel-system: string, engine-size: bigint, num-of-cylinders: bigint, engine-type: string, curb-weight: bigint, height: double, width: double, length: double, wheel-base: double, engine-location: string, drive-wheels: string, body-style: string, num-of-doors: double, aspiration: string, fuel-type: string, make: string, normalized-losses: double]"
            ]
          },
          "execution_count": 6,
          "metadata": {},
          "output_type": "execute_result"
        }
      ],
      "source": [
        "df_auto.unpersist()"
      ]
    }
  ],
  "metadata": {
    "colab": {
      "provenance": []
    },
    "kernelspec": {
      "display_name": "Python 3",
      "name": "python3"
    },
    "language_info": {
      "name": "python"
    }
  },
  "nbformat": 4,
  "nbformat_minor": 0
}
