{
  "cells": [
    {
      "cell_type": "markdown",
      "metadata": {
        "id": "1hWWWXmU6LOf"
      },
      "source": [
        "# Registrar tablas en datos externos con opciones de lectura\n",
        "\n",
        "<a href=\"https://docs.databricks.com/spark/latest/spark-sql/language-manual/sql-ref-syntax-ddl-create-table-using.html\" target=\"_blank\">DDL</a>\n",
        "\n",
        "<strong>\n",
        "<code>\n",
        "CREATE TABLE identificador_de_tabla (nombre_col1 tipo_col1, ...)<br/>\n",
        "USANDO fuente_de_datos<br/>\n",
        "OPCIONES (clave1 = valor1, clave2 = valor2, ...)<br/>\n",
        "UBICACIÓN = ruta<br/>\n",
        "</code>\n",
        "</strong>\n",
        "\n",
        "Spark admite muchas <a href=\"https://docs.databricks.com/data/data-sources/index.html\" target=\"_blank\">fuentes de datos</a> con opciones personalizadas, y sistemas adicionales pueden tener soporte no oficial a través de <a href=\"https://docs.databricks.com/libraries/index.html\" target=\"_blank\">bibliotecas</a> externas."
      ]
    },
    {
      "cell_type": "code",
      "execution_count": null,
      "metadata": {
        "colab": {
          "base_uri": "https://localhost:8080/"
        },
        "id": "sAkb8m7vj5K5",
        "outputId": "5df14df0-3da0-486c-a6fc-1eb79d212c24"
      },
      "outputs": [
        {
          "name": "stdout",
          "output_type": "stream",
          "text": [
            "Collecting pyspark\n",
            "  Downloading pyspark-3.5.0.tar.gz (316.9 MB)\n",
            "\u001b[2K     \u001b[90m━━━━━━━━━━━━━━━━━━━━━━━━━━━━━━━━━━━━━━━━\u001b[0m \u001b[32m316.9/316.9 MB\u001b[0m \u001b[31m3.8 MB/s\u001b[0m eta \u001b[36m0:00:00\u001b[0m\n",
            "\u001b[?25h  Preparing metadata (setup.py) ... \u001b[?25l\u001b[?25hdone\n",
            "Requirement already satisfied: py4j==0.10.9.7 in /usr/local/lib/python3.10/dist-packages (from pyspark) (0.10.9.7)\n",
            "Building wheels for collected packages: pyspark\n",
            "  Building wheel for pyspark (setup.py) ... \u001b[?25l\u001b[?25hdone\n",
            "  Created wheel for pyspark: filename=pyspark-3.5.0-py2.py3-none-any.whl size=317425345 sha256=67ae6c1a102297f772e4f04db92ced78677c2db042d8b16a03cadfac3e66fce6\n",
            "  Stored in directory: /root/.cache/pip/wheels/41/4e/10/c2cf2467f71c678cfc8a6b9ac9241e5e44a01940da8fbb17fc\n",
            "Successfully built pyspark\n",
            "Installing collected packages: pyspark\n",
            "Successfully installed pyspark-3.5.0\n"
          ]
        }
      ],
      "source": [
        "%pip install pyspark"
      ]
    },
    {
      "cell_type": "code",
      "execution_count": null,
      "metadata": {
        "id": "UVIAYeETldn5"
      },
      "outputs": [],
      "source": [
        "from pyspark.sql import SparkSession\n",
        "from pyspark import SparkContext\n",
        "\n",
        "spark = SparkSession.builder.master('local[*]').appName('ext-sources').getOrCreate()\n",
        "sc = SparkContext.getOrCreate()"
      ]
    },
    {
      "cell_type": "markdown",
      "metadata": {
        "id": "1pi6uNji7EIZ"
      },
      "source": [
        "La celda a continuación muestra el uso de Spark SQL DDL para crear una tabla contra una fuente externa de CSV, especificando:\n",
        "\n",
        "* Los nombres y tipos de columna.\n",
        "* El formato de archivo.\n",
        "* El delimitador utilizado para separar campos.\n",
        "* La presencia de un encabezado.\n",
        "* La ruta donde se almacenan estos datos."
      ]
    },
    {
      "cell_type": "code",
      "execution_count": null,
      "metadata": {
        "id": "btI2i1lb7Cmk"
      },
      "outputs": [],
      "source": [
        "create_california_housing = \"\"\"\n",
        "CREATE TABLE IF NOT EXISTS cal_house\n",
        "  (longitude double, latitude double, housing_median_age double,\n",
        "   total_rooms double,total_bedrooms double, population double,\n",
        "   households double, median_income double, median_house_value double\n",
        "  )\n",
        "USING CSV\n",
        "OPTIONS (\n",
        "  header = \"true\",\n",
        "  delimiter = \",\"\n",
        ")\n",
        "LOCATION \"/content/sample_data/california_housing/\"\n",
        "\"\"\""
      ]
    },
    {
      "cell_type": "code",
      "execution_count": null,
      "metadata": {
        "colab": {
          "base_uri": "https://localhost:8080/"
        },
        "id": "B5rN3EaN8qJO",
        "outputId": "4447e3ec-0ada-469b-a7e9-a570a2681219"
      },
      "outputs": [
        {
          "name": "stdout",
          "output_type": "stream",
          "text": [
            "\n",
            "CREATE TABLE IF NOT EXISTS cal_house\n",
            "  (longitude double, latitude double, housing_median_age double,\n",
            "   total_rooms double,total_bedrooms double, population double,\n",
            "   households double, median_income double, median_house_value double\n",
            "  )\n",
            "USING CSV\n",
            "OPTIONS (\n",
            "  header = \"true\",\n",
            "  delimiter = \",\"\n",
            ")\n",
            "LOCATION \"/content/sample_data/california_housing/\"\n",
            "\n"
          ]
        }
      ],
      "source": [
        "print(create_california_housing)"
      ]
    },
    {
      "cell_type": "code",
      "execution_count": null,
      "metadata": {
        "colab": {
          "base_uri": "https://localhost:8080/"
        },
        "id": "2XFdMamk8sjS",
        "outputId": "db6727b7-f4fb-4d7a-8f9f-f61fdd9f2f70"
      },
      "outputs": [
        {
          "name": "stdout",
          "output_type": "stream",
          "text": [
            "+---------+\n",
            "|namespace|\n",
            "+---------+\n",
            "|  default|\n",
            "+---------+\n",
            "\n",
            "+---------+---------+-----------+\n",
            "|namespace|tableName|isTemporary|\n",
            "+---------+---------+-----------+\n",
            "|  default|cal_house|      false|\n",
            "+---------+---------+-----------+\n",
            "\n",
            "+---------+--------+------------------+-----------+--------------+----------+----------+-------------+------------------+\n",
            "|longitude|latitude|housing_median_age|total_rooms|total_bedrooms|population|households|median_income|median_house_value|\n",
            "+---------+--------+------------------+-----------+--------------+----------+----------+-------------+------------------+\n",
            "|  -122.05|   37.37|              27.0|     3885.0|         661.0|    1537.0|     606.0|       6.6085|          344700.0|\n",
            "|   -118.3|   34.26|              43.0|     1510.0|         310.0|     809.0|     277.0|        3.599|          176500.0|\n",
            "|  -117.81|   33.78|              27.0|     3589.0|         507.0|    1484.0|     495.0|       5.7934|          270500.0|\n",
            "+---------+--------+------------------+-----------+--------------+----------+----------+-------------+------------------+\n",
            "\n"
          ]
        }
      ],
      "source": [
        "spark.sql(create_california_housing)\n",
        "\n",
        "spark.sql('show databases').show()\n",
        "spark.sql('show tables').show()\n",
        "\n",
        "spark.sql('select * from default.cal_house limit 3').show()"
      ]
    },
    {
      "cell_type": "code",
      "execution_count": null,
      "metadata": {
        "colab": {
          "base_uri": "https://localhost:8080/"
        },
        "id": "Zb6tYaFt9IMJ",
        "outputId": "67abb18d-42d1-4b9c-8c29-d787c67afe23"
      },
      "outputs": [
        {
          "data": {
            "text/plain": [
              "DataFrame[]"
            ]
          },
          "execution_count": 14,
          "metadata": {},
          "output_type": "execute_result"
        }
      ],
      "source": [
        "cal_path = '/content/sample_data/california_housing/'\n",
        "\n",
        "spark.sql(f\"\"\"\n",
        "CREATE TABLE IF NOT EXISTS cal_house2\n",
        "  (longitude double, latitude double, housing_median_age double,\n",
        "   total_rooms double,total_bedrooms double, population double,\n",
        "   households double, median_income double, median_house_value double\n",
        "  )\n",
        "USING CSV\n",
        "OPTIONS (\n",
        "  header = \"true\",\n",
        "  delimiter = \",\"\n",
        ")\n",
        "LOCATION \"${cal_path}\"\n",
        "\"\"\")"
      ]
    },
    {
      "cell_type": "code",
      "execution_count": null,
      "metadata": {
        "colab": {
          "base_uri": "https://localhost:8080/"
        },
        "id": "3LWMkSp_-FS-",
        "outputId": "b906ff28-dbb3-4ce7-b0ad-8bb9adaf3e79"
      },
      "outputs": [
        {
          "name": "stdout",
          "output_type": "stream",
          "text": [
            "+---------+\n",
            "|namespace|\n",
            "+---------+\n",
            "|  default|\n",
            "+---------+\n",
            "\n",
            "+---------+----------+-----------+\n",
            "|namespace| tableName|isTemporary|\n",
            "+---------+----------+-----------+\n",
            "|  default| cal_house|      false|\n",
            "|  default|cal_house2|      false|\n",
            "+---------+----------+-----------+\n",
            "\n",
            "root\n",
            " |-- longitude: double (nullable = true)\n",
            " |-- latitude: double (nullable = true)\n",
            " |-- housing_median_age: double (nullable = true)\n",
            " |-- total_rooms: double (nullable = true)\n",
            " |-- total_bedrooms: double (nullable = true)\n",
            " |-- population: double (nullable = true)\n",
            " |-- households: double (nullable = true)\n",
            " |-- median_income: double (nullable = true)\n",
            " |-- median_house_value: double (nullable = true)\n",
            "\n",
            "+----------------------------+----------------------------------------------------------------------+-------+\n",
            "|col_name                    |data_type                                                             |comment|\n",
            "+----------------------------+----------------------------------------------------------------------+-------+\n",
            "|longitude                   |double                                                                |NULL   |\n",
            "|latitude                    |double                                                                |NULL   |\n",
            "|housing_median_age          |double                                                                |NULL   |\n",
            "|total_rooms                 |double                                                                |NULL   |\n",
            "|total_bedrooms              |double                                                                |NULL   |\n",
            "|population                  |double                                                                |NULL   |\n",
            "|households                  |double                                                                |NULL   |\n",
            "|median_income               |double                                                                |NULL   |\n",
            "|median_house_value          |double                                                                |NULL   |\n",
            "|                            |                                                                      |       |\n",
            "|# Detailed Table Information|                                                                      |       |\n",
            "|Catalog                     |spark_catalog                                                         |       |\n",
            "|Database                    |default                                                               |       |\n",
            "|Table                       |cal_house2                                                            |       |\n",
            "|Created Time                |Wed Dec 06 11:51:51 UTC 2023                                          |       |\n",
            "|Last Access                 |UNKNOWN                                                               |       |\n",
            "|Created By                  |Spark 3.5.0                                                           |       |\n",
            "|Type                        |EXTERNAL                                                              |       |\n",
            "|Provider                    |CSV                                                                   |       |\n",
            "|Location                    |file:/content/spark-warehouse/$/content/sample_data/california_housing|       |\n",
            "+----------------------------+----------------------------------------------------------------------+-------+\n",
            "only showing top 20 rows\n",
            "\n"
          ]
        }
      ],
      "source": [
        "spark.sql('show databases').show()\n",
        "spark.sql('show tables').show()\n",
        "\n",
        "df = spark.sql('select * from cal_house2')\n",
        "df.printSchema()\n",
        "spark.sql('describe extended cal_house2').show(truncate=False)"
      ]
    }
  ],
  "metadata": {
    "colab": {
      "provenance": []
    },
    "kernelspec": {
      "display_name": "Python 3",
      "name": "python3"
    },
    "language_info": {
      "name": "python"
    }
  },
  "nbformat": 4,
  "nbformat_minor": 0
}
