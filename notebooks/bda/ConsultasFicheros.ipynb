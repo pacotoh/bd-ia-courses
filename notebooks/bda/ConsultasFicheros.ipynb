{
  "cells": [
    {
      "cell_type": "markdown",
      "metadata": {
        "id": "n1ptd85izrFY"
      },
      "source": [
        "# Extracción de datos directamente desde archivos con Spark SQL\n",
        "\n",
        "En este cuaderno, aprenderás a extraer datos directamente desde archivos utilizando Spark SQL en Databricks.\n",
        "\n",
        "Varios formatos de archivo admiten esta opción, pero es especialmente útil para formatos de datos que se describen a sí mismos (como Parquet y JSON).\n",
        "\n",
        "### Objetivos de aprendizaje\n",
        "\n",
        "Al final de esta lección, deberías ser capaz de:\n",
        "\n",
        "* Utilizar Spark SQL para consultar directamente archivos de datos.\n",
        "* Superponer vistas y CTEs para facilitar la referencia a archivos de datos.\n",
        "* Aprovechar los métodos text y binaryFile para revisar el contenido crudo de los archivos.\n",
        "\n"
      ]
    },
    {
      "cell_type": "code",
      "execution_count": null,
      "metadata": {
        "colab": {
          "base_uri": "https://localhost:8080/"
        },
        "id": "sAkb8m7vj5K5",
        "outputId": "db381165-be8a-4065-ae72-300f1566f3f4"
      },
      "outputs": [
        {
          "name": "stdout",
          "output_type": "stream",
          "text": [
            "Collecting pyspark\n",
            "  Downloading pyspark-3.5.0.tar.gz (316.9 MB)\n",
            "\u001b[2K     \u001b[90m━━━━━━━━━━━━━━━━━━━━━━━━━━━━━━━━━━━━━━━━\u001b[0m \u001b[32m316.9/316.9 MB\u001b[0m \u001b[31m2.0 MB/s\u001b[0m eta \u001b[36m0:00:00\u001b[0m\n",
            "\u001b[?25h  Preparing metadata (setup.py) ... \u001b[?25l\u001b[?25hdone\n",
            "Requirement already satisfied: py4j==0.10.9.7 in /usr/local/lib/python3.10/dist-packages (from pyspark) (0.10.9.7)\n",
            "Building wheels for collected packages: pyspark\n",
            "  Building wheel for pyspark (setup.py) ... \u001b[?25l\u001b[?25hdone\n",
            "  Created wheel for pyspark: filename=pyspark-3.5.0-py2.py3-none-any.whl size=317425345 sha256=3279430a9ee1f55fcf3f691265847ba3d9ef0e54cd7d6642db9b3b684c572b98\n",
            "  Stored in directory: /root/.cache/pip/wheels/41/4e/10/c2cf2467f71c678cfc8a6b9ac9241e5e44a01940da8fbb17fc\n",
            "Successfully built pyspark\n",
            "Installing collected packages: pyspark\n",
            "Successfully installed pyspark-3.5.0\n"
          ]
        }
      ],
      "source": [
        "%pip install pyspark"
      ]
    },
    {
      "cell_type": "code",
      "execution_count": null,
      "metadata": {
        "id": "UVIAYeETldn5"
      },
      "outputs": [],
      "source": [
        "from pyspark.sql import SparkSession\n",
        "from pyspark import SparkContext\n",
        "\n",
        "spark = SparkSession.builder.master('local[*]').appName('query-files').getOrCreate()\n",
        "sc = SparkContext.getOrCreate()"
      ]
    },
    {
      "cell_type": "markdown",
      "metadata": {
        "id": "zOD4pNCH0QFF"
      },
      "source": [
        "### Consulta de un fichero\n",
        "\n",
        "Para consultar los datos contenidos en un solo archivo, ejecuta la consulta con el siguiente patrón:\n",
        "\n",
        "<strong><code>SELECT * FROM formato_de_archivo.`/ruta/al/archivo`</code></strong>\n",
        "\n",
        "Ten en cuenta especialmente el uso de las comillas invertidas (no comillas simples) alrededor de la ruta."
      ]
    },
    {
      "cell_type": "code",
      "execution_count": null,
      "metadata": {
        "colab": {
          "base_uri": "https://localhost:8080/"
        },
        "id": "UAzf0GsQzpYO",
        "outputId": "09e9bd1c-5605-4d00-b400-1089e44d9b79"
      },
      "outputs": [
        {
          "name": "stdout",
          "output_type": "stream",
          "text": [
            "+------+----+-----+---------------+\n",
            "|Series|   X|    Y|_corrupt_record|\n",
            "+------+----+-----+---------------+\n",
            "|  NULL|NULL| NULL|              [|\n",
            "|     I|10.0| 8.04|           NULL|\n",
            "|     I| 8.0| 6.95|           NULL|\n",
            "|     I|13.0| 7.58|           NULL|\n",
            "|     I| 9.0| 8.81|           NULL|\n",
            "|     I|11.0| 8.33|           NULL|\n",
            "|     I|14.0| 9.96|           NULL|\n",
            "|     I| 6.0| 7.24|           NULL|\n",
            "|     I| 4.0| 4.26|           NULL|\n",
            "|     I|12.0|10.84|           NULL|\n",
            "|     I| 7.0| 4.81|           NULL|\n",
            "|     I| 5.0| 5.68|           NULL|\n",
            "|    II|10.0| 9.14|           NULL|\n",
            "|    II| 8.0| 8.14|           NULL|\n",
            "|    II|13.0| 8.74|           NULL|\n",
            "|    II| 9.0| 8.77|           NULL|\n",
            "|    II|11.0| 9.26|           NULL|\n",
            "|    II|14.0|  8.1|           NULL|\n",
            "|    II| 6.0| 6.13|           NULL|\n",
            "|    II| 4.0|  3.1|           NULL|\n",
            "+------+----+-----+---------------+\n",
            "only showing top 20 rows\n",
            "\n"
          ]
        }
      ],
      "source": [
        "spark.sql('SELECT * FROM json.`/content/sample_data/anscombe.json`').show()"
      ]
    },
    {
      "cell_type": "markdown",
      "metadata": {
        "id": "57REYdrJ4PbT"
      },
      "source": [
        "### Extraer archivos de texto como cadenas sin procesar\n",
        "\n",
        "Al trabajar con archivos basados en texto (que incluyen formatos como JSON, CSV, TSV y TXT), puedes utilizar el formato **text** para cargar cada línea del archivo como una fila con una columna de cadena llamada **value**. Esto puede ser útil cuando las fuentes de datos son propensas a corrupción y se utilizarán funciones personalizadas de análisis de texto para extraer valores de campos de texto."
      ]
    },
    {
      "cell_type": "code",
      "execution_count": null,
      "metadata": {
        "colab": {
          "base_uri": "https://localhost:8080/"
        },
        "id": "JzCGpEtK2ef5",
        "outputId": "67cb8197-b2e6-4352-9415-41be25b41fa7"
      },
      "outputs": [
        {
          "name": "stdout",
          "output_type": "stream",
          "text": [
            "+--------------------+\n",
            "|               value|\n",
            "+--------------------+\n",
            "|                   [|\n",
            "|  {\"Series\":\"I\", ...|\n",
            "|  {\"Series\":\"I\", ...|\n",
            "|  {\"Series\":\"I\", ...|\n",
            "|  {\"Series\":\"I\", ...|\n",
            "|  {\"Series\":\"I\", ...|\n",
            "|  {\"Series\":\"I\", ...|\n",
            "|  {\"Series\":\"I\", ...|\n",
            "|  {\"Series\":\"I\", ...|\n",
            "|  {\"Series\":\"I\", ...|\n",
            "|  {\"Series\":\"I\", ...|\n",
            "|  {\"Series\":\"I\", ...|\n",
            "|                    |\n",
            "|  {\"Series\":\"II\",...|\n",
            "|  {\"Series\":\"II\",...|\n",
            "|  {\"Series\":\"II\",...|\n",
            "|  {\"Series\":\"II\",...|\n",
            "|  {\"Series\":\"II\",...|\n",
            "|  {\"Series\":\"II\",...|\n",
            "|  {\"Series\":\"II\",...|\n",
            "+--------------------+\n",
            "only showing top 20 rows\n",
            "\n"
          ]
        }
      ],
      "source": [
        "spark.sql('SELECT * FROM text.`/content/sample_data/anscombe.json`').show()"
      ]
    }
  ],
  "metadata": {
    "colab": {
      "provenance": []
    },
    "kernelspec": {
      "display_name": "Python 3",
      "name": "python3"
    },
    "language_info": {
      "name": "python"
    }
  },
  "nbformat": 4,
  "nbformat_minor": 0
}
